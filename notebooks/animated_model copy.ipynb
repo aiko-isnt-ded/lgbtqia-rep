{
 "cells": [
  {
   "cell_type": "code",
   "execution_count": 61,
   "metadata": {},
   "outputs": [],
   "source": [
    "import pandas as pd\n",
    "import numpy as np\n",
    "import seaborn as sns\n",
    "import matplotlib.pyplot as plt\n",
    "from sklearn.linear_model import LinearRegression\n",
    "from category_encoders import OneHotEncoder\n",
    "from category_encoders import OrdinalEncoder\n",
    "from sklearn.preprocessing import MinMaxScaler\n",
    "from sklearn.manifold import TSNE\n",
    "from sklearn.cluster import KMeans\n",
    "from sklearn.metrics import silhouette_score\n",
    "from sklearn.metrics import davies_bouldin_score\n",
    "from sklearn.feature_selection import r_regression\n",
    "import plotly.express as px\n",
    "\n",
    "df_demographics = pd.read_csv(\"../data/raw/kaggle/demographics.csv\")\n",
    "df_show = pd.read_csv(\"../data/raw/kaggle/show info.csv\")"
   ]
  },
  {
   "cell_type": "markdown",
   "metadata": {},
   "source": [
    "# Animated Shows"
   ]
  },
  {
   "cell_type": "markdown",
   "metadata": {},
   "source": [
    "## Cleaning"
   ]
  },
  {
   "cell_type": "code",
   "execution_count": 23,
   "metadata": {},
   "outputs": [
    {
     "data": {
      "text/html": [
       "<div>\n",
       "<style scoped>\n",
       "    .dataframe tbody tr th:only-of-type {\n",
       "        vertical-align: middle;\n",
       "    }\n",
       "\n",
       "    .dataframe tbody tr th {\n",
       "        vertical-align: top;\n",
       "    }\n",
       "\n",
       "    .dataframe thead th {\n",
       "        text-align: right;\n",
       "    }\n",
       "</style>\n",
       "<table border=\"1\" class=\"dataframe\">\n",
       "  <thead>\n",
       "    <tr style=\"text-align: right;\">\n",
       "      <th></th>\n",
       "      <th>show_title</th>\n",
       "      <th>confirmation_date</th>\n",
       "      <th>character_name</th>\n",
       "      <th>race</th>\n",
       "      <th>gender</th>\n",
       "      <th>orientation</th>\n",
       "      <th>role</th>\n",
       "      <th>representation</th>\n",
       "      <th>TV_rating</th>\n",
       "      <th>IMDB_total_votes</th>\n",
       "      <th>IMDB_rating</th>\n",
       "      <th>seasons</th>\n",
       "      <th>total_episodes</th>\n",
       "      <th>start_date</th>\n",
       "      <th>end_date</th>\n",
       "      <th>duration</th>\n",
       "      <th>network</th>\n",
       "      <th>genre</th>\n",
       "    </tr>\n",
       "  </thead>\n",
       "  <tbody>\n",
       "    <tr>\n",
       "      <th>0</th>\n",
       "      <td>3Below: Tales of Arcadia</td>\n",
       "      <td>7/12/2019</td>\n",
       "      <td>Shannon Longhannon</td>\n",
       "      <td>White</td>\n",
       "      <td>Cis Woman</td>\n",
       "      <td>Lesbian</td>\n",
       "      <td>Recurring Character</td>\n",
       "      <td>Explicit</td>\n",
       "      <td>TV-Y7</td>\n",
       "      <td>5776</td>\n",
       "      <td>7.7</td>\n",
       "      <td>2</td>\n",
       "      <td>26</td>\n",
       "      <td>12/21/2018</td>\n",
       "      <td>7/12/2019</td>\n",
       "      <td>203</td>\n",
       "      <td>Netflix</td>\n",
       "      <td>action, adventure, comedy, family, fantasy, sc...</td>\n",
       "    </tr>\n",
       "    <tr>\n",
       "      <th>1</th>\n",
       "      <td>Adventure Time</td>\n",
       "      <td>5/17/2010</td>\n",
       "      <td>Princess Bubblegum</td>\n",
       "      <td>NaN</td>\n",
       "      <td>Cis Woman</td>\n",
       "      <td>Undetermined</td>\n",
       "      <td>Recurring Character</td>\n",
       "      <td>Explicit</td>\n",
       "      <td>TV-PG</td>\n",
       "      <td>86837</td>\n",
       "      <td>8.6</td>\n",
       "      <td>10</td>\n",
       "      <td>282</td>\n",
       "      <td>4/5/2010</td>\n",
       "      <td>7/20/2018</td>\n",
       "      <td>2839</td>\n",
       "      <td>Cartoon Network</td>\n",
       "      <td>action, adventure, comedy, family, fantasy, sc...</td>\n",
       "    </tr>\n",
       "  </tbody>\n",
       "</table>\n",
       "</div>"
      ],
      "text/plain": [
       "                 show_title confirmation_date      character_name   race  \\\n",
       "0  3Below: Tales of Arcadia         7/12/2019  Shannon Longhannon  White   \n",
       "1            Adventure Time         5/17/2010  Princess Bubblegum    NaN   \n",
       "\n",
       "      gender   orientation                 role representation TV_rating  \\\n",
       "0  Cis Woman       Lesbian  Recurring Character       Explicit     TV-Y7   \n",
       "1  Cis Woman  Undetermined  Recurring Character       Explicit     TV-PG   \n",
       "\n",
       "   IMDB_total_votes  IMDB_rating  seasons  total_episodes  start_date  \\\n",
       "0              5776          7.7        2              26  12/21/2018   \n",
       "1             86837          8.6       10             282    4/5/2010   \n",
       "\n",
       "    end_date  duration          network  \\\n",
       "0  7/12/2019       203          Netflix   \n",
       "1  7/20/2018      2839  Cartoon Network   \n",
       "\n",
       "                                               genre  \n",
       "0  action, adventure, comedy, family, fantasy, sc...  \n",
       "1  action, adventure, comedy, family, fantasy, sc...  "
      ]
     },
     "execution_count": 23,
     "metadata": {},
     "output_type": "execute_result"
    }
   ],
   "source": [
    "# Merging the dataframes by ID, and droping unnecessary columns\n",
    "df = pd.merge(df_demographics, df_show.drop('show_title', axis=1), on='ID').drop('ID', axis=1)\n",
    "df.head(2)"
   ]
  },
  {
   "cell_type": "markdown",
   "metadata": {},
   "source": [
    "### Dates"
   ]
  },
  {
   "cell_type": "code",
   "execution_count": 24,
   "metadata": {},
   "outputs": [
    {
     "data": {
      "text/html": [
       "<div>\n",
       "<style scoped>\n",
       "    .dataframe tbody tr th:only-of-type {\n",
       "        vertical-align: middle;\n",
       "    }\n",
       "\n",
       "    .dataframe tbody tr th {\n",
       "        vertical-align: top;\n",
       "    }\n",
       "\n",
       "    .dataframe thead th {\n",
       "        text-align: right;\n",
       "    }\n",
       "</style>\n",
       "<table border=\"1\" class=\"dataframe\">\n",
       "  <thead>\n",
       "    <tr style=\"text-align: right;\">\n",
       "      <th></th>\n",
       "      <th>show_title</th>\n",
       "      <th>character_name</th>\n",
       "      <th>race</th>\n",
       "      <th>gender</th>\n",
       "      <th>orientation</th>\n",
       "      <th>role</th>\n",
       "      <th>representation</th>\n",
       "      <th>TV_rating</th>\n",
       "      <th>IMDB_total_votes</th>\n",
       "      <th>IMDB_rating</th>\n",
       "      <th>seasons</th>\n",
       "      <th>total_episodes</th>\n",
       "      <th>duration</th>\n",
       "      <th>network</th>\n",
       "      <th>genre</th>\n",
       "      <th>year</th>\n",
       "    </tr>\n",
       "  </thead>\n",
       "  <tbody>\n",
       "    <tr>\n",
       "      <th>0</th>\n",
       "      <td>3Below: Tales of Arcadia</td>\n",
       "      <td>Shannon Longhannon</td>\n",
       "      <td>White</td>\n",
       "      <td>Cis Woman</td>\n",
       "      <td>Lesbian</td>\n",
       "      <td>Recurring Character</td>\n",
       "      <td>Explicit</td>\n",
       "      <td>TV-Y7</td>\n",
       "      <td>5776</td>\n",
       "      <td>7.7</td>\n",
       "      <td>2</td>\n",
       "      <td>26</td>\n",
       "      <td>203</td>\n",
       "      <td>Netflix</td>\n",
       "      <td>action, adventure, comedy, family, fantasy, sc...</td>\n",
       "      <td>2019</td>\n",
       "    </tr>\n",
       "    <tr>\n",
       "      <th>1</th>\n",
       "      <td>Adventure Time</td>\n",
       "      <td>Princess Bubblegum</td>\n",
       "      <td>NaN</td>\n",
       "      <td>Cis Woman</td>\n",
       "      <td>Undetermined</td>\n",
       "      <td>Recurring Character</td>\n",
       "      <td>Explicit</td>\n",
       "      <td>TV-PG</td>\n",
       "      <td>86837</td>\n",
       "      <td>8.6</td>\n",
       "      <td>10</td>\n",
       "      <td>282</td>\n",
       "      <td>2839</td>\n",
       "      <td>Cartoon Network</td>\n",
       "      <td>action, adventure, comedy, family, fantasy, sc...</td>\n",
       "      <td>2010</td>\n",
       "    </tr>\n",
       "  </tbody>\n",
       "</table>\n",
       "</div>"
      ],
      "text/plain": [
       "                 show_title      character_name   race     gender  \\\n",
       "0  3Below: Tales of Arcadia  Shannon Longhannon  White  Cis Woman   \n",
       "1            Adventure Time  Princess Bubblegum    NaN  Cis Woman   \n",
       "\n",
       "    orientation                 role representation TV_rating  \\\n",
       "0       Lesbian  Recurring Character       Explicit     TV-Y7   \n",
       "1  Undetermined  Recurring Character       Explicit     TV-PG   \n",
       "\n",
       "   IMDB_total_votes  IMDB_rating  seasons  total_episodes  duration  \\\n",
       "0              5776          7.7        2              26       203   \n",
       "1             86837          8.6       10             282      2839   \n",
       "\n",
       "           network                                              genre  year  \n",
       "0          Netflix  action, adventure, comedy, family, fantasy, sc...  2019  \n",
       "1  Cartoon Network  action, adventure, comedy, family, fantasy, sc...  2010  "
      ]
     },
     "execution_count": 24,
     "metadata": {},
     "output_type": "execute_result"
    }
   ],
   "source": [
    "# Creating a year column\n",
    "df['confirmation_date'] = pd.to_datetime(df['confirmation_date'])\n",
    "df[\"year\"] = df[\"confirmation_date\"].dt.year\n",
    "\n",
    "# Dropping the confirmation, start and end dates\n",
    "df = df.drop('confirmation_date', axis=1)\n",
    "df = df.drop('start_date', axis=1)\n",
    "df = df.drop('end_date', axis=1)\n",
    "df.head(2)"
   ]
  },
  {
   "cell_type": "markdown",
   "metadata": {},
   "source": [
    "## Encoding"
   ]
  },
  {
   "cell_type": "markdown",
   "metadata": {},
   "source": [
    "To do a clustering model of the data, first we have to encode the categorical values. We can either do this by ordinal encoding or one-hot encoding. Because some features have multiple categorical values attached to them, such as network and genre, I’m gonna apply a one-hot encoding, while the rest of the categorical values will have a ordinal encoding.\n",
    "\n",
    "Although the one-hot encodings will cause an increase in dimensionality, the multiple values make it hard to ordinal encode the data."
   ]
  },
  {
   "cell_type": "code",
   "execution_count": 25,
   "metadata": {},
   "outputs": [
    {
     "data": {
      "text/html": [
       "<div>\n",
       "<style scoped>\n",
       "    .dataframe tbody tr th:only-of-type {\n",
       "        vertical-align: middle;\n",
       "    }\n",
       "\n",
       "    .dataframe tbody tr th {\n",
       "        vertical-align: top;\n",
       "    }\n",
       "\n",
       "    .dataframe thead th {\n",
       "        text-align: right;\n",
       "    }\n",
       "</style>\n",
       "<table border=\"1\" class=\"dataframe\">\n",
       "  <thead>\n",
       "    <tr style=\"text-align: right;\">\n",
       "      <th></th>\n",
       "      <th>race</th>\n",
       "      <th>gender</th>\n",
       "      <th>orientation</th>\n",
       "      <th>role</th>\n",
       "      <th>representation</th>\n",
       "      <th>TV_rating</th>\n",
       "      <th>IMDB_total_votes</th>\n",
       "      <th>IMDB_rating</th>\n",
       "      <th>seasons</th>\n",
       "      <th>total_episodes</th>\n",
       "      <th>duration</th>\n",
       "      <th>network</th>\n",
       "      <th>genre</th>\n",
       "      <th>year</th>\n",
       "    </tr>\n",
       "  </thead>\n",
       "  <tbody>\n",
       "    <tr>\n",
       "      <th>0</th>\n",
       "      <td>White</td>\n",
       "      <td>Cis Woman</td>\n",
       "      <td>Lesbian</td>\n",
       "      <td>Recurring Character</td>\n",
       "      <td>Explicit</td>\n",
       "      <td>TV-Y7</td>\n",
       "      <td>5776</td>\n",
       "      <td>7.7</td>\n",
       "      <td>2</td>\n",
       "      <td>26</td>\n",
       "      <td>203</td>\n",
       "      <td>Netflix</td>\n",
       "      <td>action, adventure, comedy, family, fantasy, sc...</td>\n",
       "      <td>2019</td>\n",
       "    </tr>\n",
       "    <tr>\n",
       "      <th>1</th>\n",
       "      <td>NaN</td>\n",
       "      <td>Cis Woman</td>\n",
       "      <td>Undetermined</td>\n",
       "      <td>Recurring Character</td>\n",
       "      <td>Explicit</td>\n",
       "      <td>TV-PG</td>\n",
       "      <td>86837</td>\n",
       "      <td>8.6</td>\n",
       "      <td>10</td>\n",
       "      <td>282</td>\n",
       "      <td>2839</td>\n",
       "      <td>Cartoon Network</td>\n",
       "      <td>action, adventure, comedy, family, fantasy, sc...</td>\n",
       "      <td>2010</td>\n",
       "    </tr>\n",
       "  </tbody>\n",
       "</table>\n",
       "</div>"
      ],
      "text/plain": [
       "    race     gender   orientation                 role representation  \\\n",
       "0  White  Cis Woman       Lesbian  Recurring Character       Explicit   \n",
       "1    NaN  Cis Woman  Undetermined  Recurring Character       Explicit   \n",
       "\n",
       "  TV_rating  IMDB_total_votes  IMDB_rating  seasons  total_episodes  duration  \\\n",
       "0     TV-Y7              5776          7.7        2              26       203   \n",
       "1     TV-PG             86837          8.6       10             282      2839   \n",
       "\n",
       "           network                                              genre  year  \n",
       "0          Netflix  action, adventure, comedy, family, fantasy, sc...  2019  \n",
       "1  Cartoon Network  action, adventure, comedy, family, fantasy, sc...  2010  "
      ]
     },
     "execution_count": 25,
     "metadata": {},
     "output_type": "execute_result"
    }
   ],
   "source": [
    "df_encoded = df.copy()\n",
    "df_encoded = df_encoded.drop(columns=['show_title', 'character_name'])\n",
    "df_encoded.head(2)"
   ]
  },
  {
   "cell_type": "markdown",
   "metadata": {},
   "source": [
    "### Network"
   ]
  },
  {
   "cell_type": "code",
   "execution_count": 26,
   "metadata": {},
   "outputs": [
    {
     "data": {
      "text/html": [
       "<div>\n",
       "<style scoped>\n",
       "    .dataframe tbody tr th:only-of-type {\n",
       "        vertical-align: middle;\n",
       "    }\n",
       "\n",
       "    .dataframe tbody tr th {\n",
       "        vertical-align: top;\n",
       "    }\n",
       "\n",
       "    .dataframe thead th {\n",
       "        text-align: right;\n",
       "    }\n",
       "</style>\n",
       "<table border=\"1\" class=\"dataframe\">\n",
       "  <thead>\n",
       "    <tr style=\"text-align: right;\">\n",
       "      <th></th>\n",
       "      <th>0</th>\n",
       "      <th>1</th>\n",
       "      <th>2</th>\n",
       "    </tr>\n",
       "  </thead>\n",
       "  <tbody>\n",
       "    <tr>\n",
       "      <th>0</th>\n",
       "      <td>Netflix</td>\n",
       "      <td>None</td>\n",
       "      <td>None</td>\n",
       "    </tr>\n",
       "    <tr>\n",
       "      <th>1</th>\n",
       "      <td>Cartoon Network</td>\n",
       "      <td>None</td>\n",
       "      <td>None</td>\n",
       "    </tr>\n",
       "    <tr>\n",
       "      <th>2</th>\n",
       "      <td>Cartoon Network</td>\n",
       "      <td>None</td>\n",
       "      <td>None</td>\n",
       "    </tr>\n",
       "    <tr>\n",
       "      <th>3</th>\n",
       "      <td>Cartoon Network</td>\n",
       "      <td>None</td>\n",
       "      <td>None</td>\n",
       "    </tr>\n",
       "    <tr>\n",
       "      <th>4</th>\n",
       "      <td>HBO Max</td>\n",
       "      <td>None</td>\n",
       "      <td>None</td>\n",
       "    </tr>\n",
       "  </tbody>\n",
       "</table>\n",
       "</div>"
      ],
      "text/plain": [
       "                 0     1     2\n",
       "0          Netflix  None  None\n",
       "1  Cartoon Network  None  None\n",
       "2  Cartoon Network  None  None\n",
       "3  Cartoon Network  None  None\n",
       "4          HBO Max  None  None"
      ]
     },
     "execution_count": 26,
     "metadata": {},
     "output_type": "execute_result"
    }
   ],
   "source": [
    "network = df_encoded[\"network\"].str.split(\", \", expand=True)\n",
    "network.head()"
   ]
  },
  {
   "cell_type": "code",
   "execution_count": 27,
   "metadata": {},
   "outputs": [
    {
     "data": {
      "text/html": [
       "<div>\n",
       "<style scoped>\n",
       "    .dataframe tbody tr th:only-of-type {\n",
       "        vertical-align: middle;\n",
       "    }\n",
       "\n",
       "    .dataframe tbody tr th {\n",
       "        vertical-align: top;\n",
       "    }\n",
       "\n",
       "    .dataframe thead th {\n",
       "        text-align: right;\n",
       "    }\n",
       "</style>\n",
       "<table border=\"1\" class=\"dataframe\">\n",
       "  <thead>\n",
       "    <tr style=\"text-align: right;\">\n",
       "      <th></th>\n",
       "      <th>ABC</th>\n",
       "      <th>ABC Kids</th>\n",
       "      <th>Adult Swim</th>\n",
       "      <th>Amazon Prime</th>\n",
       "      <th>CW Seed</th>\n",
       "      <th>Cartoon Network</th>\n",
       "      <th>Comedy Central</th>\n",
       "      <th>Crunchyroll Originals</th>\n",
       "      <th>DC Universe</th>\n",
       "      <th>Disney Channel</th>\n",
       "      <th>...</th>\n",
       "      <th>Peacock</th>\n",
       "      <th>Rooster Teeth</th>\n",
       "      <th>Showtime</th>\n",
       "      <th>SyFy</th>\n",
       "      <th>TBS</th>\n",
       "      <th>The Hub</th>\n",
       "      <th>The WB</th>\n",
       "      <th>Web Series</th>\n",
       "      <th>Webseries</th>\n",
       "      <th>YouTube</th>\n",
       "    </tr>\n",
       "  </thead>\n",
       "  <tbody>\n",
       "    <tr>\n",
       "      <th>0</th>\n",
       "      <td>0</td>\n",
       "      <td>0</td>\n",
       "      <td>0</td>\n",
       "      <td>0</td>\n",
       "      <td>0</td>\n",
       "      <td>0</td>\n",
       "      <td>0</td>\n",
       "      <td>0</td>\n",
       "      <td>0</td>\n",
       "      <td>0</td>\n",
       "      <td>...</td>\n",
       "      <td>0</td>\n",
       "      <td>0</td>\n",
       "      <td>0</td>\n",
       "      <td>0</td>\n",
       "      <td>0</td>\n",
       "      <td>0</td>\n",
       "      <td>0</td>\n",
       "      <td>0</td>\n",
       "      <td>0</td>\n",
       "      <td>0</td>\n",
       "    </tr>\n",
       "    <tr>\n",
       "      <th>1</th>\n",
       "      <td>0</td>\n",
       "      <td>0</td>\n",
       "      <td>0</td>\n",
       "      <td>0</td>\n",
       "      <td>0</td>\n",
       "      <td>1</td>\n",
       "      <td>0</td>\n",
       "      <td>0</td>\n",
       "      <td>0</td>\n",
       "      <td>0</td>\n",
       "      <td>...</td>\n",
       "      <td>0</td>\n",
       "      <td>0</td>\n",
       "      <td>0</td>\n",
       "      <td>0</td>\n",
       "      <td>0</td>\n",
       "      <td>0</td>\n",
       "      <td>0</td>\n",
       "      <td>0</td>\n",
       "      <td>0</td>\n",
       "      <td>0</td>\n",
       "    </tr>\n",
       "    <tr>\n",
       "      <th>2</th>\n",
       "      <td>0</td>\n",
       "      <td>0</td>\n",
       "      <td>0</td>\n",
       "      <td>0</td>\n",
       "      <td>0</td>\n",
       "      <td>1</td>\n",
       "      <td>0</td>\n",
       "      <td>0</td>\n",
       "      <td>0</td>\n",
       "      <td>0</td>\n",
       "      <td>...</td>\n",
       "      <td>0</td>\n",
       "      <td>0</td>\n",
       "      <td>0</td>\n",
       "      <td>0</td>\n",
       "      <td>0</td>\n",
       "      <td>0</td>\n",
       "      <td>0</td>\n",
       "      <td>0</td>\n",
       "      <td>0</td>\n",
       "      <td>0</td>\n",
       "    </tr>\n",
       "    <tr>\n",
       "      <th>3</th>\n",
       "      <td>0</td>\n",
       "      <td>0</td>\n",
       "      <td>0</td>\n",
       "      <td>0</td>\n",
       "      <td>0</td>\n",
       "      <td>1</td>\n",
       "      <td>0</td>\n",
       "      <td>0</td>\n",
       "      <td>0</td>\n",
       "      <td>0</td>\n",
       "      <td>...</td>\n",
       "      <td>0</td>\n",
       "      <td>0</td>\n",
       "      <td>0</td>\n",
       "      <td>0</td>\n",
       "      <td>0</td>\n",
       "      <td>0</td>\n",
       "      <td>0</td>\n",
       "      <td>0</td>\n",
       "      <td>0</td>\n",
       "      <td>0</td>\n",
       "    </tr>\n",
       "    <tr>\n",
       "      <th>4</th>\n",
       "      <td>0</td>\n",
       "      <td>0</td>\n",
       "      <td>0</td>\n",
       "      <td>0</td>\n",
       "      <td>0</td>\n",
       "      <td>0</td>\n",
       "      <td>0</td>\n",
       "      <td>0</td>\n",
       "      <td>0</td>\n",
       "      <td>0</td>\n",
       "      <td>...</td>\n",
       "      <td>0</td>\n",
       "      <td>0</td>\n",
       "      <td>0</td>\n",
       "      <td>0</td>\n",
       "      <td>0</td>\n",
       "      <td>0</td>\n",
       "      <td>0</td>\n",
       "      <td>0</td>\n",
       "      <td>0</td>\n",
       "      <td>0</td>\n",
       "    </tr>\n",
       "  </tbody>\n",
       "</table>\n",
       "<p>5 rows × 33 columns</p>\n",
       "</div>"
      ],
      "text/plain": [
       "   ABC  ABC Kids  Adult Swim  Amazon Prime  CW Seed  Cartoon Network  \\\n",
       "0    0         0           0             0        0                0   \n",
       "1    0         0           0             0        0                1   \n",
       "2    0         0           0             0        0                1   \n",
       "3    0         0           0             0        0                1   \n",
       "4    0         0           0             0        0                0   \n",
       "\n",
       "   Comedy Central  Crunchyroll Originals  DC Universe  Disney Channel  ...  \\\n",
       "0               0                      0            0               0  ...   \n",
       "1               0                      0            0               0  ...   \n",
       "2               0                      0            0               0  ...   \n",
       "3               0                      0            0               0  ...   \n",
       "4               0                      0            0               0  ...   \n",
       "\n",
       "   Peacock  Rooster Teeth  Showtime  SyFy  TBS  The Hub  The WB  Web Series  \\\n",
       "0        0              0         0     0    0        0       0           0   \n",
       "1        0              0         0     0    0        0       0           0   \n",
       "2        0              0         0     0    0        0       0           0   \n",
       "3        0              0         0     0    0        0       0           0   \n",
       "4        0              0         0     0    0        0       0           0   \n",
       "\n",
       "   Webseries  YouTube  \n",
       "0          0        0  \n",
       "1          0        0  \n",
       "2          0        0  \n",
       "3          0        0  \n",
       "4          0        0  \n",
       "\n",
       "[5 rows x 33 columns]"
      ]
     },
     "execution_count": 27,
     "metadata": {},
     "output_type": "execute_result"
    }
   ],
   "source": [
    "encoder = OneHotEncoder(return_df=True,use_cat_names=True)\n",
    "network_encoded = encoder.fit_transform(network)\n",
    "network_encoded.columns = [col.split(\"_\")[-1] for col in network_encoded.columns]\n",
    "network_encoded = network_encoded.drop(columns=[\"nan\"])\n",
    "network_encoded = network_encoded.T.groupby(network_encoded.columns).sum().T\n",
    "network_encoded.head()"
   ]
  },
  {
   "cell_type": "code",
   "execution_count": 28,
   "metadata": {},
   "outputs": [
    {
     "data": {
      "text/html": [
       "<div>\n",
       "<style scoped>\n",
       "    .dataframe tbody tr th:only-of-type {\n",
       "        vertical-align: middle;\n",
       "    }\n",
       "\n",
       "    .dataframe tbody tr th {\n",
       "        vertical-align: top;\n",
       "    }\n",
       "\n",
       "    .dataframe thead th {\n",
       "        text-align: right;\n",
       "    }\n",
       "</style>\n",
       "<table border=\"1\" class=\"dataframe\">\n",
       "  <thead>\n",
       "    <tr style=\"text-align: right;\">\n",
       "      <th></th>\n",
       "      <th>race</th>\n",
       "      <th>gender</th>\n",
       "      <th>orientation</th>\n",
       "      <th>role</th>\n",
       "      <th>representation</th>\n",
       "      <th>TV_rating</th>\n",
       "      <th>IMDB_total_votes</th>\n",
       "      <th>IMDB_rating</th>\n",
       "      <th>seasons</th>\n",
       "      <th>total_episodes</th>\n",
       "      <th>...</th>\n",
       "      <th>Peacock</th>\n",
       "      <th>Rooster Teeth</th>\n",
       "      <th>Showtime</th>\n",
       "      <th>SyFy</th>\n",
       "      <th>TBS</th>\n",
       "      <th>The Hub</th>\n",
       "      <th>The WB</th>\n",
       "      <th>Web Series</th>\n",
       "      <th>Webseries</th>\n",
       "      <th>YouTube</th>\n",
       "    </tr>\n",
       "  </thead>\n",
       "  <tbody>\n",
       "    <tr>\n",
       "      <th>0</th>\n",
       "      <td>White</td>\n",
       "      <td>Cis Woman</td>\n",
       "      <td>Lesbian</td>\n",
       "      <td>Recurring Character</td>\n",
       "      <td>Explicit</td>\n",
       "      <td>TV-Y7</td>\n",
       "      <td>5776</td>\n",
       "      <td>7.7</td>\n",
       "      <td>2</td>\n",
       "      <td>26</td>\n",
       "      <td>...</td>\n",
       "      <td>0</td>\n",
       "      <td>0</td>\n",
       "      <td>0</td>\n",
       "      <td>0</td>\n",
       "      <td>0</td>\n",
       "      <td>0</td>\n",
       "      <td>0</td>\n",
       "      <td>0</td>\n",
       "      <td>0</td>\n",
       "      <td>0</td>\n",
       "    </tr>\n",
       "    <tr>\n",
       "      <th>1</th>\n",
       "      <td>NaN</td>\n",
       "      <td>Cis Woman</td>\n",
       "      <td>Undetermined</td>\n",
       "      <td>Recurring Character</td>\n",
       "      <td>Explicit</td>\n",
       "      <td>TV-PG</td>\n",
       "      <td>86837</td>\n",
       "      <td>8.6</td>\n",
       "      <td>10</td>\n",
       "      <td>282</td>\n",
       "      <td>...</td>\n",
       "      <td>0</td>\n",
       "      <td>0</td>\n",
       "      <td>0</td>\n",
       "      <td>0</td>\n",
       "      <td>0</td>\n",
       "      <td>0</td>\n",
       "      <td>0</td>\n",
       "      <td>0</td>\n",
       "      <td>0</td>\n",
       "      <td>0</td>\n",
       "    </tr>\n",
       "    <tr>\n",
       "      <th>2</th>\n",
       "      <td>NaN</td>\n",
       "      <td>Cis Woman</td>\n",
       "      <td>Undetermined</td>\n",
       "      <td>Recurring Character</td>\n",
       "      <td>Explicit</td>\n",
       "      <td>TV-PG</td>\n",
       "      <td>86837</td>\n",
       "      <td>8.6</td>\n",
       "      <td>10</td>\n",
       "      <td>282</td>\n",
       "      <td>...</td>\n",
       "      <td>0</td>\n",
       "      <td>0</td>\n",
       "      <td>0</td>\n",
       "      <td>0</td>\n",
       "      <td>0</td>\n",
       "      <td>0</td>\n",
       "      <td>0</td>\n",
       "      <td>0</td>\n",
       "      <td>0</td>\n",
       "      <td>0</td>\n",
       "    </tr>\n",
       "    <tr>\n",
       "      <th>3</th>\n",
       "      <td>NaN</td>\n",
       "      <td>Agender</td>\n",
       "      <td>Undetermined</td>\n",
       "      <td>Recurring Character</td>\n",
       "      <td>Explicit</td>\n",
       "      <td>TV-PG</td>\n",
       "      <td>86837</td>\n",
       "      <td>8.6</td>\n",
       "      <td>10</td>\n",
       "      <td>282</td>\n",
       "      <td>...</td>\n",
       "      <td>0</td>\n",
       "      <td>0</td>\n",
       "      <td>0</td>\n",
       "      <td>0</td>\n",
       "      <td>0</td>\n",
       "      <td>0</td>\n",
       "      <td>0</td>\n",
       "      <td>0</td>\n",
       "      <td>0</td>\n",
       "      <td>0</td>\n",
       "    </tr>\n",
       "    <tr>\n",
       "      <th>4</th>\n",
       "      <td>NaN</td>\n",
       "      <td>Cis Woman</td>\n",
       "      <td>Ambiguous</td>\n",
       "      <td>Recurring Character</td>\n",
       "      <td>Implicit</td>\n",
       "      <td>TV-PG</td>\n",
       "      <td>3322</td>\n",
       "      <td>8.7</td>\n",
       "      <td>1</td>\n",
       "      <td>4</td>\n",
       "      <td>...</td>\n",
       "      <td>0</td>\n",
       "      <td>0</td>\n",
       "      <td>0</td>\n",
       "      <td>0</td>\n",
       "      <td>0</td>\n",
       "      <td>0</td>\n",
       "      <td>0</td>\n",
       "      <td>0</td>\n",
       "      <td>0</td>\n",
       "      <td>0</td>\n",
       "    </tr>\n",
       "  </tbody>\n",
       "</table>\n",
       "<p>5 rows × 46 columns</p>\n",
       "</div>"
      ],
      "text/plain": [
       "    race     gender   orientation                 role representation  \\\n",
       "0  White  Cis Woman       Lesbian  Recurring Character       Explicit   \n",
       "1    NaN  Cis Woman  Undetermined  Recurring Character       Explicit   \n",
       "2    NaN  Cis Woman  Undetermined  Recurring Character       Explicit   \n",
       "3    NaN    Agender  Undetermined  Recurring Character       Explicit   \n",
       "4    NaN  Cis Woman     Ambiguous  Recurring Character       Implicit   \n",
       "\n",
       "  TV_rating  IMDB_total_votes  IMDB_rating  seasons  total_episodes  ...  \\\n",
       "0     TV-Y7              5776          7.7        2              26  ...   \n",
       "1     TV-PG             86837          8.6       10             282  ...   \n",
       "2     TV-PG             86837          8.6       10             282  ...   \n",
       "3     TV-PG             86837          8.6       10             282  ...   \n",
       "4     TV-PG              3322          8.7        1               4  ...   \n",
       "\n",
       "   Peacock Rooster Teeth  Showtime  SyFy  TBS  The Hub  The WB  Web Series  \\\n",
       "0        0             0         0     0    0        0       0           0   \n",
       "1        0             0         0     0    0        0       0           0   \n",
       "2        0             0         0     0    0        0       0           0   \n",
       "3        0             0         0     0    0        0       0           0   \n",
       "4        0             0         0     0    0        0       0           0   \n",
       "\n",
       "   Webseries  YouTube  \n",
       "0          0        0  \n",
       "1          0        0  \n",
       "2          0        0  \n",
       "3          0        0  \n",
       "4          0        0  \n",
       "\n",
       "[5 rows x 46 columns]"
      ]
     },
     "execution_count": 28,
     "metadata": {},
     "output_type": "execute_result"
    }
   ],
   "source": [
    "df_encoded = pd.concat([df_encoded, network_encoded], axis=1)\n",
    "df_encoded = df_encoded.drop(columns=['network'])\n",
    "df_encoded.head()"
   ]
  },
  {
   "cell_type": "markdown",
   "metadata": {},
   "source": [
    "### Genre"
   ]
  },
  {
   "cell_type": "code",
   "execution_count": 29,
   "metadata": {},
   "outputs": [
    {
     "data": {
      "text/html": [
       "<div>\n",
       "<style scoped>\n",
       "    .dataframe tbody tr th:only-of-type {\n",
       "        vertical-align: middle;\n",
       "    }\n",
       "\n",
       "    .dataframe tbody tr th {\n",
       "        vertical-align: top;\n",
       "    }\n",
       "\n",
       "    .dataframe thead th {\n",
       "        text-align: right;\n",
       "    }\n",
       "</style>\n",
       "<table border=\"1\" class=\"dataframe\">\n",
       "  <thead>\n",
       "    <tr style=\"text-align: right;\">\n",
       "      <th></th>\n",
       "      <th>0</th>\n",
       "      <th>1</th>\n",
       "      <th>2</th>\n",
       "      <th>3</th>\n",
       "      <th>4</th>\n",
       "      <th>5</th>\n",
       "      <th>6</th>\n",
       "      <th>7</th>\n",
       "      <th>8</th>\n",
       "      <th>9</th>\n",
       "    </tr>\n",
       "  </thead>\n",
       "  <tbody>\n",
       "    <tr>\n",
       "      <th>0</th>\n",
       "      <td>action</td>\n",
       "      <td>adventure</td>\n",
       "      <td>comedy</td>\n",
       "      <td>family</td>\n",
       "      <td>fantasy</td>\n",
       "      <td>science fiction</td>\n",
       "      <td>None</td>\n",
       "      <td>None</td>\n",
       "      <td>None</td>\n",
       "      <td>None</td>\n",
       "    </tr>\n",
       "    <tr>\n",
       "      <th>1</th>\n",
       "      <td>action</td>\n",
       "      <td>adventure</td>\n",
       "      <td>comedy</td>\n",
       "      <td>family</td>\n",
       "      <td>fantasy</td>\n",
       "      <td>science fiction</td>\n",
       "      <td>None</td>\n",
       "      <td>None</td>\n",
       "      <td>None</td>\n",
       "      <td>None</td>\n",
       "    </tr>\n",
       "    <tr>\n",
       "      <th>2</th>\n",
       "      <td>action</td>\n",
       "      <td>adventure</td>\n",
       "      <td>comedy</td>\n",
       "      <td>family</td>\n",
       "      <td>fantasy</td>\n",
       "      <td>science fiction</td>\n",
       "      <td>None</td>\n",
       "      <td>None</td>\n",
       "      <td>None</td>\n",
       "      <td>None</td>\n",
       "    </tr>\n",
       "    <tr>\n",
       "      <th>3</th>\n",
       "      <td>action</td>\n",
       "      <td>adventure</td>\n",
       "      <td>comedy</td>\n",
       "      <td>family</td>\n",
       "      <td>fantasy</td>\n",
       "      <td>science fiction</td>\n",
       "      <td>None</td>\n",
       "      <td>None</td>\n",
       "      <td>None</td>\n",
       "      <td>None</td>\n",
       "    </tr>\n",
       "    <tr>\n",
       "      <th>4</th>\n",
       "      <td>action</td>\n",
       "      <td>adventure</td>\n",
       "      <td>comedy</td>\n",
       "      <td>family</td>\n",
       "      <td>fantasy</td>\n",
       "      <td>science fiction</td>\n",
       "      <td>None</td>\n",
       "      <td>None</td>\n",
       "      <td>None</td>\n",
       "      <td>None</td>\n",
       "    </tr>\n",
       "  </tbody>\n",
       "</table>\n",
       "</div>"
      ],
      "text/plain": [
       "        0          1       2       3        4                5     6     7  \\\n",
       "0  action  adventure  comedy  family  fantasy  science fiction  None  None   \n",
       "1  action  adventure  comedy  family  fantasy  science fiction  None  None   \n",
       "2  action  adventure  comedy  family  fantasy  science fiction  None  None   \n",
       "3  action  adventure  comedy  family  fantasy  science fiction  None  None   \n",
       "4  action  adventure  comedy  family  fantasy  science fiction  None  None   \n",
       "\n",
       "      8     9  \n",
       "0  None  None  \n",
       "1  None  None  \n",
       "2  None  None  \n",
       "3  None  None  \n",
       "4  None  None  "
      ]
     },
     "execution_count": 29,
     "metadata": {},
     "output_type": "execute_result"
    }
   ],
   "source": [
    "genre = df_encoded[\"genre\"].str.split(\", \", expand=True)\n",
    "genre.head()"
   ]
  },
  {
   "cell_type": "code",
   "execution_count": 30,
   "metadata": {},
   "outputs": [
    {
     "data": {
      "text/html": [
       "<div>\n",
       "<style scoped>\n",
       "    .dataframe tbody tr th:only-of-type {\n",
       "        vertical-align: middle;\n",
       "    }\n",
       "\n",
       "    .dataframe tbody tr th {\n",
       "        vertical-align: top;\n",
       "    }\n",
       "\n",
       "    .dataframe thead th {\n",
       "        text-align: right;\n",
       "    }\n",
       "</style>\n",
       "<table border=\"1\" class=\"dataframe\">\n",
       "  <thead>\n",
       "    <tr style=\"text-align: right;\">\n",
       "      <th></th>\n",
       "      <th>action</th>\n",
       "      <th>adenture</th>\n",
       "      <th>adventure</th>\n",
       "      <th>animation</th>\n",
       "      <th>comedy</th>\n",
       "      <th>crime</th>\n",
       "      <th>drama</th>\n",
       "      <th>family</th>\n",
       "      <th>fantasy</th>\n",
       "      <th>history</th>\n",
       "      <th>horror</th>\n",
       "      <th>musical</th>\n",
       "      <th>mystery</th>\n",
       "      <th>romance</th>\n",
       "      <th>science fiction</th>\n",
       "      <th>short</th>\n",
       "      <th>sport</th>\n",
       "      <th>talk show</th>\n",
       "      <th>thriller</th>\n",
       "      <th>western</th>\n",
       "    </tr>\n",
       "  </thead>\n",
       "  <tbody>\n",
       "    <tr>\n",
       "      <th>0</th>\n",
       "      <td>1</td>\n",
       "      <td>0</td>\n",
       "      <td>1</td>\n",
       "      <td>0</td>\n",
       "      <td>1</td>\n",
       "      <td>0</td>\n",
       "      <td>0</td>\n",
       "      <td>1</td>\n",
       "      <td>1</td>\n",
       "      <td>0</td>\n",
       "      <td>0</td>\n",
       "      <td>0</td>\n",
       "      <td>0</td>\n",
       "      <td>0</td>\n",
       "      <td>1</td>\n",
       "      <td>0</td>\n",
       "      <td>0</td>\n",
       "      <td>0</td>\n",
       "      <td>0</td>\n",
       "      <td>0</td>\n",
       "    </tr>\n",
       "    <tr>\n",
       "      <th>1</th>\n",
       "      <td>1</td>\n",
       "      <td>0</td>\n",
       "      <td>1</td>\n",
       "      <td>0</td>\n",
       "      <td>1</td>\n",
       "      <td>0</td>\n",
       "      <td>0</td>\n",
       "      <td>1</td>\n",
       "      <td>1</td>\n",
       "      <td>0</td>\n",
       "      <td>0</td>\n",
       "      <td>0</td>\n",
       "      <td>0</td>\n",
       "      <td>0</td>\n",
       "      <td>1</td>\n",
       "      <td>0</td>\n",
       "      <td>0</td>\n",
       "      <td>0</td>\n",
       "      <td>0</td>\n",
       "      <td>0</td>\n",
       "    </tr>\n",
       "    <tr>\n",
       "      <th>2</th>\n",
       "      <td>1</td>\n",
       "      <td>0</td>\n",
       "      <td>1</td>\n",
       "      <td>0</td>\n",
       "      <td>1</td>\n",
       "      <td>0</td>\n",
       "      <td>0</td>\n",
       "      <td>1</td>\n",
       "      <td>1</td>\n",
       "      <td>0</td>\n",
       "      <td>0</td>\n",
       "      <td>0</td>\n",
       "      <td>0</td>\n",
       "      <td>0</td>\n",
       "      <td>1</td>\n",
       "      <td>0</td>\n",
       "      <td>0</td>\n",
       "      <td>0</td>\n",
       "      <td>0</td>\n",
       "      <td>0</td>\n",
       "    </tr>\n",
       "    <tr>\n",
       "      <th>3</th>\n",
       "      <td>1</td>\n",
       "      <td>0</td>\n",
       "      <td>1</td>\n",
       "      <td>0</td>\n",
       "      <td>1</td>\n",
       "      <td>0</td>\n",
       "      <td>0</td>\n",
       "      <td>1</td>\n",
       "      <td>1</td>\n",
       "      <td>0</td>\n",
       "      <td>0</td>\n",
       "      <td>0</td>\n",
       "      <td>0</td>\n",
       "      <td>0</td>\n",
       "      <td>1</td>\n",
       "      <td>0</td>\n",
       "      <td>0</td>\n",
       "      <td>0</td>\n",
       "      <td>0</td>\n",
       "      <td>0</td>\n",
       "    </tr>\n",
       "    <tr>\n",
       "      <th>4</th>\n",
       "      <td>1</td>\n",
       "      <td>0</td>\n",
       "      <td>1</td>\n",
       "      <td>0</td>\n",
       "      <td>1</td>\n",
       "      <td>0</td>\n",
       "      <td>0</td>\n",
       "      <td>1</td>\n",
       "      <td>1</td>\n",
       "      <td>0</td>\n",
       "      <td>0</td>\n",
       "      <td>0</td>\n",
       "      <td>0</td>\n",
       "      <td>0</td>\n",
       "      <td>1</td>\n",
       "      <td>0</td>\n",
       "      <td>0</td>\n",
       "      <td>0</td>\n",
       "      <td>0</td>\n",
       "      <td>0</td>\n",
       "    </tr>\n",
       "  </tbody>\n",
       "</table>\n",
       "</div>"
      ],
      "text/plain": [
       "   action  adenture  adventure  animation  comedy  crime  drama  family  \\\n",
       "0       1         0          1          0       1      0      0       1   \n",
       "1       1         0          1          0       1      0      0       1   \n",
       "2       1         0          1          0       1      0      0       1   \n",
       "3       1         0          1          0       1      0      0       1   \n",
       "4       1         0          1          0       1      0      0       1   \n",
       "\n",
       "   fantasy  history  horror  musical  mystery  romance  science fiction  \\\n",
       "0        1        0       0        0        0        0                1   \n",
       "1        1        0       0        0        0        0                1   \n",
       "2        1        0       0        0        0        0                1   \n",
       "3        1        0       0        0        0        0                1   \n",
       "4        1        0       0        0        0        0                1   \n",
       "\n",
       "   short  sport  talk show  thriller  western  \n",
       "0      0      0          0         0        0  \n",
       "1      0      0          0         0        0  \n",
       "2      0      0          0         0        0  \n",
       "3      0      0          0         0        0  \n",
       "4      0      0          0         0        0  "
      ]
     },
     "execution_count": 30,
     "metadata": {},
     "output_type": "execute_result"
    }
   ],
   "source": [
    "encoder = OneHotEncoder(return_df=True,use_cat_names=True)\n",
    "genre_encoded = encoder.fit_transform(genre)\n",
    "genre_encoded.columns = [col.split(\"_\")[-1] for col in genre_encoded.columns]\n",
    "genre_encoded = genre_encoded.drop(columns=[\"nan\"])\n",
    "genre_encoded = genre_encoded.T.groupby(genre_encoded.columns).sum().T\n",
    "genre_encoded.head()"
   ]
  },
  {
   "cell_type": "code",
   "execution_count": 31,
   "metadata": {},
   "outputs": [
    {
     "data": {
      "text/html": [
       "<div>\n",
       "<style scoped>\n",
       "    .dataframe tbody tr th:only-of-type {\n",
       "        vertical-align: middle;\n",
       "    }\n",
       "\n",
       "    .dataframe tbody tr th {\n",
       "        vertical-align: top;\n",
       "    }\n",
       "\n",
       "    .dataframe thead th {\n",
       "        text-align: right;\n",
       "    }\n",
       "</style>\n",
       "<table border=\"1\" class=\"dataframe\">\n",
       "  <thead>\n",
       "    <tr style=\"text-align: right;\">\n",
       "      <th></th>\n",
       "      <th>race</th>\n",
       "      <th>gender</th>\n",
       "      <th>orientation</th>\n",
       "      <th>role</th>\n",
       "      <th>representation</th>\n",
       "      <th>TV_rating</th>\n",
       "      <th>IMDB_total_votes</th>\n",
       "      <th>IMDB_rating</th>\n",
       "      <th>seasons</th>\n",
       "      <th>total_episodes</th>\n",
       "      <th>...</th>\n",
       "      <th>horror</th>\n",
       "      <th>musical</th>\n",
       "      <th>mystery</th>\n",
       "      <th>romance</th>\n",
       "      <th>science fiction</th>\n",
       "      <th>short</th>\n",
       "      <th>sport</th>\n",
       "      <th>talk show</th>\n",
       "      <th>thriller</th>\n",
       "      <th>western</th>\n",
       "    </tr>\n",
       "  </thead>\n",
       "  <tbody>\n",
       "    <tr>\n",
       "      <th>0</th>\n",
       "      <td>White</td>\n",
       "      <td>Cis Woman</td>\n",
       "      <td>Lesbian</td>\n",
       "      <td>Recurring Character</td>\n",
       "      <td>Explicit</td>\n",
       "      <td>TV-Y7</td>\n",
       "      <td>5776</td>\n",
       "      <td>7.7</td>\n",
       "      <td>2</td>\n",
       "      <td>26</td>\n",
       "      <td>...</td>\n",
       "      <td>0</td>\n",
       "      <td>0</td>\n",
       "      <td>0</td>\n",
       "      <td>0</td>\n",
       "      <td>1</td>\n",
       "      <td>0</td>\n",
       "      <td>0</td>\n",
       "      <td>0</td>\n",
       "      <td>0</td>\n",
       "      <td>0</td>\n",
       "    </tr>\n",
       "    <tr>\n",
       "      <th>1</th>\n",
       "      <td>NaN</td>\n",
       "      <td>Cis Woman</td>\n",
       "      <td>Undetermined</td>\n",
       "      <td>Recurring Character</td>\n",
       "      <td>Explicit</td>\n",
       "      <td>TV-PG</td>\n",
       "      <td>86837</td>\n",
       "      <td>8.6</td>\n",
       "      <td>10</td>\n",
       "      <td>282</td>\n",
       "      <td>...</td>\n",
       "      <td>0</td>\n",
       "      <td>0</td>\n",
       "      <td>0</td>\n",
       "      <td>0</td>\n",
       "      <td>1</td>\n",
       "      <td>0</td>\n",
       "      <td>0</td>\n",
       "      <td>0</td>\n",
       "      <td>0</td>\n",
       "      <td>0</td>\n",
       "    </tr>\n",
       "    <tr>\n",
       "      <th>2</th>\n",
       "      <td>NaN</td>\n",
       "      <td>Cis Woman</td>\n",
       "      <td>Undetermined</td>\n",
       "      <td>Recurring Character</td>\n",
       "      <td>Explicit</td>\n",
       "      <td>TV-PG</td>\n",
       "      <td>86837</td>\n",
       "      <td>8.6</td>\n",
       "      <td>10</td>\n",
       "      <td>282</td>\n",
       "      <td>...</td>\n",
       "      <td>0</td>\n",
       "      <td>0</td>\n",
       "      <td>0</td>\n",
       "      <td>0</td>\n",
       "      <td>1</td>\n",
       "      <td>0</td>\n",
       "      <td>0</td>\n",
       "      <td>0</td>\n",
       "      <td>0</td>\n",
       "      <td>0</td>\n",
       "    </tr>\n",
       "    <tr>\n",
       "      <th>3</th>\n",
       "      <td>NaN</td>\n",
       "      <td>Agender</td>\n",
       "      <td>Undetermined</td>\n",
       "      <td>Recurring Character</td>\n",
       "      <td>Explicit</td>\n",
       "      <td>TV-PG</td>\n",
       "      <td>86837</td>\n",
       "      <td>8.6</td>\n",
       "      <td>10</td>\n",
       "      <td>282</td>\n",
       "      <td>...</td>\n",
       "      <td>0</td>\n",
       "      <td>0</td>\n",
       "      <td>0</td>\n",
       "      <td>0</td>\n",
       "      <td>1</td>\n",
       "      <td>0</td>\n",
       "      <td>0</td>\n",
       "      <td>0</td>\n",
       "      <td>0</td>\n",
       "      <td>0</td>\n",
       "    </tr>\n",
       "    <tr>\n",
       "      <th>4</th>\n",
       "      <td>NaN</td>\n",
       "      <td>Cis Woman</td>\n",
       "      <td>Ambiguous</td>\n",
       "      <td>Recurring Character</td>\n",
       "      <td>Implicit</td>\n",
       "      <td>TV-PG</td>\n",
       "      <td>3322</td>\n",
       "      <td>8.7</td>\n",
       "      <td>1</td>\n",
       "      <td>4</td>\n",
       "      <td>...</td>\n",
       "      <td>0</td>\n",
       "      <td>0</td>\n",
       "      <td>0</td>\n",
       "      <td>0</td>\n",
       "      <td>1</td>\n",
       "      <td>0</td>\n",
       "      <td>0</td>\n",
       "      <td>0</td>\n",
       "      <td>0</td>\n",
       "      <td>0</td>\n",
       "    </tr>\n",
       "  </tbody>\n",
       "</table>\n",
       "<p>5 rows × 65 columns</p>\n",
       "</div>"
      ],
      "text/plain": [
       "    race     gender   orientation                 role representation  \\\n",
       "0  White  Cis Woman       Lesbian  Recurring Character       Explicit   \n",
       "1    NaN  Cis Woman  Undetermined  Recurring Character       Explicit   \n",
       "2    NaN  Cis Woman  Undetermined  Recurring Character       Explicit   \n",
       "3    NaN    Agender  Undetermined  Recurring Character       Explicit   \n",
       "4    NaN  Cis Woman     Ambiguous  Recurring Character       Implicit   \n",
       "\n",
       "  TV_rating  IMDB_total_votes  IMDB_rating  seasons  total_episodes  ...  \\\n",
       "0     TV-Y7              5776          7.7        2              26  ...   \n",
       "1     TV-PG             86837          8.6       10             282  ...   \n",
       "2     TV-PG             86837          8.6       10             282  ...   \n",
       "3     TV-PG             86837          8.6       10             282  ...   \n",
       "4     TV-PG              3322          8.7        1               4  ...   \n",
       "\n",
       "   horror  musical  mystery  romance  science fiction  short  sport  \\\n",
       "0       0        0        0        0                1      0      0   \n",
       "1       0        0        0        0                1      0      0   \n",
       "2       0        0        0        0                1      0      0   \n",
       "3       0        0        0        0                1      0      0   \n",
       "4       0        0        0        0                1      0      0   \n",
       "\n",
       "   talk show  thriller  western  \n",
       "0          0         0        0  \n",
       "1          0         0        0  \n",
       "2          0         0        0  \n",
       "3          0         0        0  \n",
       "4          0         0        0  \n",
       "\n",
       "[5 rows x 65 columns]"
      ]
     },
     "execution_count": 31,
     "metadata": {},
     "output_type": "execute_result"
    }
   ],
   "source": [
    "df_encoded = pd.concat([df_encoded, genre_encoded], axis=1)\n",
    "df_encoded = df_encoded.drop(columns=['genre'])\n",
    "df_encoded.head()"
   ]
  },
  {
   "cell_type": "markdown",
   "metadata": {},
   "source": [
    "### Race, Gender and Orientation"
   ]
  },
  {
   "cell_type": "code",
   "execution_count": 32,
   "metadata": {},
   "outputs": [
    {
     "data": {
      "text/html": [
       "<div>\n",
       "<style scoped>\n",
       "    .dataframe tbody tr th:only-of-type {\n",
       "        vertical-align: middle;\n",
       "    }\n",
       "\n",
       "    .dataframe tbody tr th {\n",
       "        vertical-align: top;\n",
       "    }\n",
       "\n",
       "    .dataframe thead th {\n",
       "        text-align: right;\n",
       "    }\n",
       "</style>\n",
       "<table border=\"1\" class=\"dataframe\">\n",
       "  <thead>\n",
       "    <tr style=\"text-align: right;\">\n",
       "      <th></th>\n",
       "      <th>White</th>\n",
       "      <th>Undetermined</th>\n",
       "      <th>POC</th>\n",
       "      <th>Cis Woman</th>\n",
       "      <th>Agender</th>\n",
       "      <th>Cis Man</th>\n",
       "      <th>Trans Woman</th>\n",
       "      <th>Non Binary</th>\n",
       "      <th>Undetermined</th>\n",
       "      <th>Genderfluid</th>\n",
       "      <th>...</th>\n",
       "      <th>horror</th>\n",
       "      <th>musical</th>\n",
       "      <th>mystery</th>\n",
       "      <th>romance</th>\n",
       "      <th>science fiction</th>\n",
       "      <th>short</th>\n",
       "      <th>sport</th>\n",
       "      <th>talk show</th>\n",
       "      <th>thriller</th>\n",
       "      <th>western</th>\n",
       "    </tr>\n",
       "  </thead>\n",
       "  <tbody>\n",
       "    <tr>\n",
       "      <th>0</th>\n",
       "      <td>1.0</td>\n",
       "      <td>0.0</td>\n",
       "      <td>0.0</td>\n",
       "      <td>1.0</td>\n",
       "      <td>0.0</td>\n",
       "      <td>0.0</td>\n",
       "      <td>0.0</td>\n",
       "      <td>0.0</td>\n",
       "      <td>0.0</td>\n",
       "      <td>0.0</td>\n",
       "      <td>...</td>\n",
       "      <td>0</td>\n",
       "      <td>0</td>\n",
       "      <td>0</td>\n",
       "      <td>0</td>\n",
       "      <td>1</td>\n",
       "      <td>0</td>\n",
       "      <td>0</td>\n",
       "      <td>0</td>\n",
       "      <td>0</td>\n",
       "      <td>0</td>\n",
       "    </tr>\n",
       "    <tr>\n",
       "      <th>1</th>\n",
       "      <td>0.0</td>\n",
       "      <td>1.0</td>\n",
       "      <td>0.0</td>\n",
       "      <td>1.0</td>\n",
       "      <td>0.0</td>\n",
       "      <td>0.0</td>\n",
       "      <td>0.0</td>\n",
       "      <td>0.0</td>\n",
       "      <td>0.0</td>\n",
       "      <td>0.0</td>\n",
       "      <td>...</td>\n",
       "      <td>0</td>\n",
       "      <td>0</td>\n",
       "      <td>0</td>\n",
       "      <td>0</td>\n",
       "      <td>1</td>\n",
       "      <td>0</td>\n",
       "      <td>0</td>\n",
       "      <td>0</td>\n",
       "      <td>0</td>\n",
       "      <td>0</td>\n",
       "    </tr>\n",
       "    <tr>\n",
       "      <th>2</th>\n",
       "      <td>0.0</td>\n",
       "      <td>1.0</td>\n",
       "      <td>0.0</td>\n",
       "      <td>1.0</td>\n",
       "      <td>0.0</td>\n",
       "      <td>0.0</td>\n",
       "      <td>0.0</td>\n",
       "      <td>0.0</td>\n",
       "      <td>0.0</td>\n",
       "      <td>0.0</td>\n",
       "      <td>...</td>\n",
       "      <td>0</td>\n",
       "      <td>0</td>\n",
       "      <td>0</td>\n",
       "      <td>0</td>\n",
       "      <td>1</td>\n",
       "      <td>0</td>\n",
       "      <td>0</td>\n",
       "      <td>0</td>\n",
       "      <td>0</td>\n",
       "      <td>0</td>\n",
       "    </tr>\n",
       "    <tr>\n",
       "      <th>3</th>\n",
       "      <td>0.0</td>\n",
       "      <td>1.0</td>\n",
       "      <td>0.0</td>\n",
       "      <td>0.0</td>\n",
       "      <td>1.0</td>\n",
       "      <td>0.0</td>\n",
       "      <td>0.0</td>\n",
       "      <td>0.0</td>\n",
       "      <td>0.0</td>\n",
       "      <td>0.0</td>\n",
       "      <td>...</td>\n",
       "      <td>0</td>\n",
       "      <td>0</td>\n",
       "      <td>0</td>\n",
       "      <td>0</td>\n",
       "      <td>1</td>\n",
       "      <td>0</td>\n",
       "      <td>0</td>\n",
       "      <td>0</td>\n",
       "      <td>0</td>\n",
       "      <td>0</td>\n",
       "    </tr>\n",
       "    <tr>\n",
       "      <th>4</th>\n",
       "      <td>0.0</td>\n",
       "      <td>1.0</td>\n",
       "      <td>0.0</td>\n",
       "      <td>1.0</td>\n",
       "      <td>0.0</td>\n",
       "      <td>0.0</td>\n",
       "      <td>0.0</td>\n",
       "      <td>0.0</td>\n",
       "      <td>0.0</td>\n",
       "      <td>0.0</td>\n",
       "      <td>...</td>\n",
       "      <td>0</td>\n",
       "      <td>0</td>\n",
       "      <td>0</td>\n",
       "      <td>0</td>\n",
       "      <td>1</td>\n",
       "      <td>0</td>\n",
       "      <td>0</td>\n",
       "      <td>0</td>\n",
       "      <td>0</td>\n",
       "      <td>0</td>\n",
       "    </tr>\n",
       "  </tbody>\n",
       "</table>\n",
       "<p>5 rows × 84 columns</p>\n",
       "</div>"
      ],
      "text/plain": [
       "   White  Undetermined  POC  Cis Woman  Agender  Cis Man  Trans Woman  \\\n",
       "0    1.0           0.0  0.0        1.0      0.0      0.0          0.0   \n",
       "1    0.0           1.0  0.0        1.0      0.0      0.0          0.0   \n",
       "2    0.0           1.0  0.0        1.0      0.0      0.0          0.0   \n",
       "3    0.0           1.0  0.0        0.0      1.0      0.0          0.0   \n",
       "4    0.0           1.0  0.0        1.0      0.0      0.0          0.0   \n",
       "\n",
       "   Non Binary  Undetermined  Genderfluid  ...  horror  musical  mystery  \\\n",
       "0         0.0           0.0          0.0  ...       0        0        0   \n",
       "1         0.0           0.0          0.0  ...       0        0        0   \n",
       "2         0.0           0.0          0.0  ...       0        0        0   \n",
       "3         0.0           0.0          0.0  ...       0        0        0   \n",
       "4         0.0           0.0          0.0  ...       0        0        0   \n",
       "\n",
       "   romance  science fiction  short  sport  talk show  thriller  western  \n",
       "0        0                1      0      0          0         0        0  \n",
       "1        0                1      0      0          0         0        0  \n",
       "2        0                1      0      0          0         0        0  \n",
       "3        0                1      0      0          0         0        0  \n",
       "4        0                1      0      0          0         0        0  \n",
       "\n",
       "[5 rows x 84 columns]"
      ]
     },
     "execution_count": 32,
     "metadata": {},
     "output_type": "execute_result"
    }
   ],
   "source": [
    "df_encoded['race'] = df_encoded['race'].fillna('Undetermined')\n",
    "\n",
    "# One Hot encoding the gender, race, orientation, character role, tv rating, and type of representation categories\n",
    "encoder = OneHotEncoder(cols=['race', 'gender', 'orientation'],handle_unknown='return_nan',return_df=True,use_cat_names=True)\n",
    "df_encoded = encoder.fit_transform(df_encoded)\n",
    "df_encoded.columns = [col.split(\"race_\")[-1] for col in df_encoded.columns]\n",
    "df_encoded.columns = [col.split(\"gender_\")[-1] for col in df_encoded.columns]\n",
    "df_encoded.columns = [col.split(\"orientation_\")[-1] for col in df_encoded.columns]\n",
    "\n",
    "df_encoded.head()"
   ]
  },
  {
   "cell_type": "markdown",
   "metadata": {},
   "source": [
    "### Ordinal Encoding the Remaining Categorical Features"
   ]
  },
  {
   "cell_type": "code",
   "execution_count": 33,
   "metadata": {},
   "outputs": [
    {
     "data": {
      "text/html": [
       "<div>\n",
       "<style scoped>\n",
       "    .dataframe tbody tr th:only-of-type {\n",
       "        vertical-align: middle;\n",
       "    }\n",
       "\n",
       "    .dataframe tbody tr th {\n",
       "        vertical-align: top;\n",
       "    }\n",
       "\n",
       "    .dataframe thead th {\n",
       "        text-align: right;\n",
       "    }\n",
       "</style>\n",
       "<table border=\"1\" class=\"dataframe\">\n",
       "  <thead>\n",
       "    <tr style=\"text-align: right;\">\n",
       "      <th></th>\n",
       "      <th>White</th>\n",
       "      <th>Undetermined</th>\n",
       "      <th>POC</th>\n",
       "      <th>Cis Woman</th>\n",
       "      <th>Agender</th>\n",
       "      <th>Cis Man</th>\n",
       "      <th>Trans Woman</th>\n",
       "      <th>Non Binary</th>\n",
       "      <th>Undetermined</th>\n",
       "      <th>Genderfluid</th>\n",
       "      <th>...</th>\n",
       "      <th>horror</th>\n",
       "      <th>musical</th>\n",
       "      <th>mystery</th>\n",
       "      <th>romance</th>\n",
       "      <th>science fiction</th>\n",
       "      <th>short</th>\n",
       "      <th>sport</th>\n",
       "      <th>talk show</th>\n",
       "      <th>thriller</th>\n",
       "      <th>western</th>\n",
       "    </tr>\n",
       "  </thead>\n",
       "  <tbody>\n",
       "    <tr>\n",
       "      <th>0</th>\n",
       "      <td>1.0</td>\n",
       "      <td>0.0</td>\n",
       "      <td>0.0</td>\n",
       "      <td>1.0</td>\n",
       "      <td>0.0</td>\n",
       "      <td>0.0</td>\n",
       "      <td>0.0</td>\n",
       "      <td>0.0</td>\n",
       "      <td>0.0</td>\n",
       "      <td>0.0</td>\n",
       "      <td>...</td>\n",
       "      <td>0</td>\n",
       "      <td>0</td>\n",
       "      <td>0</td>\n",
       "      <td>0</td>\n",
       "      <td>1</td>\n",
       "      <td>0</td>\n",
       "      <td>0</td>\n",
       "      <td>0</td>\n",
       "      <td>0</td>\n",
       "      <td>0</td>\n",
       "    </tr>\n",
       "    <tr>\n",
       "      <th>1</th>\n",
       "      <td>0.0</td>\n",
       "      <td>1.0</td>\n",
       "      <td>0.0</td>\n",
       "      <td>1.0</td>\n",
       "      <td>0.0</td>\n",
       "      <td>0.0</td>\n",
       "      <td>0.0</td>\n",
       "      <td>0.0</td>\n",
       "      <td>0.0</td>\n",
       "      <td>0.0</td>\n",
       "      <td>...</td>\n",
       "      <td>0</td>\n",
       "      <td>0</td>\n",
       "      <td>0</td>\n",
       "      <td>0</td>\n",
       "      <td>1</td>\n",
       "      <td>0</td>\n",
       "      <td>0</td>\n",
       "      <td>0</td>\n",
       "      <td>0</td>\n",
       "      <td>0</td>\n",
       "    </tr>\n",
       "    <tr>\n",
       "      <th>2</th>\n",
       "      <td>0.0</td>\n",
       "      <td>1.0</td>\n",
       "      <td>0.0</td>\n",
       "      <td>1.0</td>\n",
       "      <td>0.0</td>\n",
       "      <td>0.0</td>\n",
       "      <td>0.0</td>\n",
       "      <td>0.0</td>\n",
       "      <td>0.0</td>\n",
       "      <td>0.0</td>\n",
       "      <td>...</td>\n",
       "      <td>0</td>\n",
       "      <td>0</td>\n",
       "      <td>0</td>\n",
       "      <td>0</td>\n",
       "      <td>1</td>\n",
       "      <td>0</td>\n",
       "      <td>0</td>\n",
       "      <td>0</td>\n",
       "      <td>0</td>\n",
       "      <td>0</td>\n",
       "    </tr>\n",
       "    <tr>\n",
       "      <th>3</th>\n",
       "      <td>0.0</td>\n",
       "      <td>1.0</td>\n",
       "      <td>0.0</td>\n",
       "      <td>0.0</td>\n",
       "      <td>1.0</td>\n",
       "      <td>0.0</td>\n",
       "      <td>0.0</td>\n",
       "      <td>0.0</td>\n",
       "      <td>0.0</td>\n",
       "      <td>0.0</td>\n",
       "      <td>...</td>\n",
       "      <td>0</td>\n",
       "      <td>0</td>\n",
       "      <td>0</td>\n",
       "      <td>0</td>\n",
       "      <td>1</td>\n",
       "      <td>0</td>\n",
       "      <td>0</td>\n",
       "      <td>0</td>\n",
       "      <td>0</td>\n",
       "      <td>0</td>\n",
       "    </tr>\n",
       "    <tr>\n",
       "      <th>4</th>\n",
       "      <td>0.0</td>\n",
       "      <td>1.0</td>\n",
       "      <td>0.0</td>\n",
       "      <td>1.0</td>\n",
       "      <td>0.0</td>\n",
       "      <td>0.0</td>\n",
       "      <td>0.0</td>\n",
       "      <td>0.0</td>\n",
       "      <td>0.0</td>\n",
       "      <td>0.0</td>\n",
       "      <td>...</td>\n",
       "      <td>0</td>\n",
       "      <td>0</td>\n",
       "      <td>0</td>\n",
       "      <td>0</td>\n",
       "      <td>1</td>\n",
       "      <td>0</td>\n",
       "      <td>0</td>\n",
       "      <td>0</td>\n",
       "      <td>0</td>\n",
       "      <td>0</td>\n",
       "    </tr>\n",
       "  </tbody>\n",
       "</table>\n",
       "<p>5 rows × 84 columns</p>\n",
       "</div>"
      ],
      "text/plain": [
       "   White  Undetermined  POC  Cis Woman  Agender  Cis Man  Trans Woman  \\\n",
       "0    1.0           0.0  0.0        1.0      0.0      0.0          0.0   \n",
       "1    0.0           1.0  0.0        1.0      0.0      0.0          0.0   \n",
       "2    0.0           1.0  0.0        1.0      0.0      0.0          0.0   \n",
       "3    0.0           1.0  0.0        0.0      1.0      0.0          0.0   \n",
       "4    0.0           1.0  0.0        1.0      0.0      0.0          0.0   \n",
       "\n",
       "   Non Binary  Undetermined  Genderfluid  ...  horror  musical  mystery  \\\n",
       "0         0.0           0.0          0.0  ...       0        0        0   \n",
       "1         0.0           0.0          0.0  ...       0        0        0   \n",
       "2         0.0           0.0          0.0  ...       0        0        0   \n",
       "3         0.0           0.0          0.0  ...       0        0        0   \n",
       "4         0.0           0.0          0.0  ...       0        0        0   \n",
       "\n",
       "   romance  science fiction  short  sport  talk show  thriller  western  \n",
       "0        0                1      0      0          0         0        0  \n",
       "1        0                1      0      0          0         0        0  \n",
       "2        0                1      0      0          0         0        0  \n",
       "3        0                1      0      0          0         0        0  \n",
       "4        0                1      0      0          0         0        0  \n",
       "\n",
       "[5 rows x 84 columns]"
      ]
     },
     "execution_count": 33,
     "metadata": {},
     "output_type": "execute_result"
    }
   ],
   "source": [
    "role_order = {'Guest Character':0, 'Supporting Character':1, 'Recurring Character':2, 'Main Character':3}\n",
    "df_encoded['role'] = df_encoded['role'].map(role_order)\n",
    "\n",
    "rep_order = {'Implicit':0, 'Explicit':1}\n",
    "df_encoded['representation'] = df_encoded['representation'].map(rep_order)\n",
    "\n",
    "rating_order = {'none listed':0, 'TV-Y':1, 'TV-Y7':2, 'TV-G':3, 'TV-PG':4, 'TV-14':5, 'TV-MA':6}\n",
    "df_encoded['TV_rating'] = df_encoded['TV_rating'].map(rating_order)\n",
    "\n",
    "df_encoded.head()"
   ]
  },
  {
   "cell_type": "code",
   "execution_count": 34,
   "metadata": {},
   "outputs": [
    {
     "name": "stdout",
     "output_type": "stream",
     "text": [
      "<class 'pandas.core.frame.DataFrame'>\n",
      "RangeIndex: 353 entries, 0 to 352\n",
      "Data columns (total 84 columns):\n",
      " #   Column                 Non-Null Count  Dtype  \n",
      "---  ------                 --------------  -----  \n",
      " 0   White                  353 non-null    float64\n",
      " 1   Undetermined           353 non-null    float64\n",
      " 2   POC                    353 non-null    float64\n",
      " 3   Cis Woman              353 non-null    float64\n",
      " 4   Agender                353 non-null    float64\n",
      " 5   Cis Man                353 non-null    float64\n",
      " 6   Trans Woman            353 non-null    float64\n",
      " 7   Non Binary             353 non-null    float64\n",
      " 8   Undetermined           353 non-null    float64\n",
      " 9   Genderfluid            353 non-null    float64\n",
      " 10  Trans Man              353 non-null    float64\n",
      " 11  Intersex               353 non-null    float64\n",
      " 12  Lesbian                353 non-null    float64\n",
      " 13  Undetermined           353 non-null    float64\n",
      " 14  Ambiguous              353 non-null    float64\n",
      " 15  Bisexual               353 non-null    float64\n",
      " 16  Gay                    353 non-null    float64\n",
      " 17  Pansexual              353 non-null    float64\n",
      " 18  Straight               353 non-null    float64\n",
      " 19  Polyamorous            353 non-null    float64\n",
      " 20  Asexual                353 non-null    float64\n",
      " 21  Queer                  353 non-null    float64\n",
      " 22  role                   353 non-null    int64  \n",
      " 23  representation         353 non-null    int64  \n",
      " 24  TV_rating              353 non-null    int64  \n",
      " 25  IMDB_total_votes       353 non-null    int64  \n",
      " 26  IMDB_rating            353 non-null    float64\n",
      " 27  seasons                353 non-null    int64  \n",
      " 28  total_episodes         353 non-null    int64  \n",
      " 29  duration               353 non-null    int64  \n",
      " 30  year                   353 non-null    int32  \n",
      " 31  ABC                    353 non-null    int64  \n",
      " 32  ABC Kids               353 non-null    int64  \n",
      " 33  Adult Swim             353 non-null    int64  \n",
      " 34  Amazon Prime           353 non-null    int64  \n",
      " 35  CW Seed                353 non-null    int64  \n",
      " 36  Cartoon Network        353 non-null    int64  \n",
      " 37  Comedy Central         353 non-null    int64  \n",
      " 38  Crunchyroll Originals  353 non-null    int64  \n",
      " 39  DC Universe            353 non-null    int64  \n",
      " 40  Disney Channel         353 non-null    int64  \n",
      " 41  Disney Junior          353 non-null    int64  \n",
      " 42  Disney XD              353 non-null    int64  \n",
      " 43  FX Networks            353 non-null    int64  \n",
      " 44  Fox                    353 non-null    int64  \n",
      " 45  HBO Max                353 non-null    int64  \n",
      " 46  Hulu                   353 non-null    int64  \n",
      " 47  Kids' WB               353 non-null    int64  \n",
      " 48  LOGO TV                353 non-null    int64  \n",
      " 49  Myx TV                 353 non-null    int64  \n",
      " 50  Netflix                353 non-null    int64  \n",
      " 51  Nickelodeon            353 non-null    int64  \n",
      " 52  PBS                    353 non-null    int64  \n",
      " 53  Paramount +            353 non-null    int64  \n",
      " 54  Peacock                353 non-null    int64  \n",
      " 55  Rooster Teeth          353 non-null    int64  \n",
      " 56  Showtime               353 non-null    int64  \n",
      " 57  SyFy                   353 non-null    int64  \n",
      " 58  TBS                    353 non-null    int64  \n",
      " 59  The Hub                353 non-null    int64  \n",
      " 60  The WB                 353 non-null    int64  \n",
      " 61  Web Series             353 non-null    int64  \n",
      " 62  Webseries              353 non-null    int64  \n",
      " 63  YouTube                353 non-null    int64  \n",
      " 64  action                 353 non-null    int64  \n",
      " 65  adenture               353 non-null    int64  \n",
      " 66  adventure              353 non-null    int64  \n",
      " 67  animation              353 non-null    int64  \n",
      " 68  comedy                 353 non-null    int64  \n",
      " 69  crime                  353 non-null    int64  \n",
      " 70  drama                  353 non-null    int64  \n",
      " 71  family                 353 non-null    int64  \n",
      " 72  fantasy                353 non-null    int64  \n",
      " 73  history                353 non-null    int64  \n",
      " 74  horror                 353 non-null    int64  \n",
      " 75  musical                353 non-null    int64  \n",
      " 76  mystery                353 non-null    int64  \n",
      " 77  romance                353 non-null    int64  \n",
      " 78  science fiction        353 non-null    int64  \n",
      " 79  short                  353 non-null    int64  \n",
      " 80  sport                  353 non-null    int64  \n",
      " 81  talk show              353 non-null    int64  \n",
      " 82  thriller               353 non-null    int64  \n",
      " 83  western                353 non-null    int64  \n",
      "dtypes: float64(23), int32(1), int64(60)\n",
      "memory usage: 230.4 KB\n"
     ]
    }
   ],
   "source": [
    "df_encoded.info()"
   ]
  },
  {
   "cell_type": "markdown",
   "metadata": {},
   "source": [
    "All values in the encoded dataframe are numerical, thus, we proceed to normalize the data."
   ]
  },
  {
   "cell_type": "markdown",
   "metadata": {},
   "source": [
    "## Normalization"
   ]
  },
  {
   "cell_type": "code",
   "execution_count": 77,
   "metadata": {},
   "outputs": [
    {
     "data": {
      "text/html": [
       "<div>\n",
       "<style scoped>\n",
       "    .dataframe tbody tr th:only-of-type {\n",
       "        vertical-align: middle;\n",
       "    }\n",
       "\n",
       "    .dataframe tbody tr th {\n",
       "        vertical-align: top;\n",
       "    }\n",
       "\n",
       "    .dataframe thead th {\n",
       "        text-align: right;\n",
       "    }\n",
       "</style>\n",
       "<table border=\"1\" class=\"dataframe\">\n",
       "  <thead>\n",
       "    <tr style=\"text-align: right;\">\n",
       "      <th></th>\n",
       "      <th>White</th>\n",
       "      <th>Undetermined</th>\n",
       "      <th>POC</th>\n",
       "      <th>Cis Woman</th>\n",
       "      <th>Agender</th>\n",
       "      <th>Cis Man</th>\n",
       "      <th>Trans Woman</th>\n",
       "      <th>Non Binary</th>\n",
       "      <th>Undetermined</th>\n",
       "      <th>Genderfluid</th>\n",
       "      <th>...</th>\n",
       "      <th>horror</th>\n",
       "      <th>musical</th>\n",
       "      <th>mystery</th>\n",
       "      <th>romance</th>\n",
       "      <th>science fiction</th>\n",
       "      <th>short</th>\n",
       "      <th>sport</th>\n",
       "      <th>talk show</th>\n",
       "      <th>thriller</th>\n",
       "      <th>western</th>\n",
       "    </tr>\n",
       "  </thead>\n",
       "  <tbody>\n",
       "    <tr>\n",
       "      <th>0</th>\n",
       "      <td>1.0</td>\n",
       "      <td>0.0</td>\n",
       "      <td>0.0</td>\n",
       "      <td>1.0</td>\n",
       "      <td>0.0</td>\n",
       "      <td>0.0</td>\n",
       "      <td>0.0</td>\n",
       "      <td>0.0</td>\n",
       "      <td>0.0</td>\n",
       "      <td>0.0</td>\n",
       "      <td>...</td>\n",
       "      <td>0.0</td>\n",
       "      <td>0.0</td>\n",
       "      <td>0.0</td>\n",
       "      <td>0.0</td>\n",
       "      <td>1.0</td>\n",
       "      <td>0.0</td>\n",
       "      <td>0.0</td>\n",
       "      <td>0.0</td>\n",
       "      <td>0.0</td>\n",
       "      <td>0.0</td>\n",
       "    </tr>\n",
       "    <tr>\n",
       "      <th>1</th>\n",
       "      <td>0.0</td>\n",
       "      <td>1.0</td>\n",
       "      <td>0.0</td>\n",
       "      <td>1.0</td>\n",
       "      <td>0.0</td>\n",
       "      <td>0.0</td>\n",
       "      <td>0.0</td>\n",
       "      <td>0.0</td>\n",
       "      <td>0.0</td>\n",
       "      <td>0.0</td>\n",
       "      <td>...</td>\n",
       "      <td>0.0</td>\n",
       "      <td>0.0</td>\n",
       "      <td>0.0</td>\n",
       "      <td>0.0</td>\n",
       "      <td>1.0</td>\n",
       "      <td>0.0</td>\n",
       "      <td>0.0</td>\n",
       "      <td>0.0</td>\n",
       "      <td>0.0</td>\n",
       "      <td>0.0</td>\n",
       "    </tr>\n",
       "    <tr>\n",
       "      <th>2</th>\n",
       "      <td>0.0</td>\n",
       "      <td>1.0</td>\n",
       "      <td>0.0</td>\n",
       "      <td>1.0</td>\n",
       "      <td>0.0</td>\n",
       "      <td>0.0</td>\n",
       "      <td>0.0</td>\n",
       "      <td>0.0</td>\n",
       "      <td>0.0</td>\n",
       "      <td>0.0</td>\n",
       "      <td>...</td>\n",
       "      <td>0.0</td>\n",
       "      <td>0.0</td>\n",
       "      <td>0.0</td>\n",
       "      <td>0.0</td>\n",
       "      <td>1.0</td>\n",
       "      <td>0.0</td>\n",
       "      <td>0.0</td>\n",
       "      <td>0.0</td>\n",
       "      <td>0.0</td>\n",
       "      <td>0.0</td>\n",
       "    </tr>\n",
       "    <tr>\n",
       "      <th>3</th>\n",
       "      <td>0.0</td>\n",
       "      <td>1.0</td>\n",
       "      <td>0.0</td>\n",
       "      <td>0.0</td>\n",
       "      <td>1.0</td>\n",
       "      <td>0.0</td>\n",
       "      <td>0.0</td>\n",
       "      <td>0.0</td>\n",
       "      <td>0.0</td>\n",
       "      <td>0.0</td>\n",
       "      <td>...</td>\n",
       "      <td>0.0</td>\n",
       "      <td>0.0</td>\n",
       "      <td>0.0</td>\n",
       "      <td>0.0</td>\n",
       "      <td>1.0</td>\n",
       "      <td>0.0</td>\n",
       "      <td>0.0</td>\n",
       "      <td>0.0</td>\n",
       "      <td>0.0</td>\n",
       "      <td>0.0</td>\n",
       "    </tr>\n",
       "    <tr>\n",
       "      <th>4</th>\n",
       "      <td>0.0</td>\n",
       "      <td>1.0</td>\n",
       "      <td>0.0</td>\n",
       "      <td>1.0</td>\n",
       "      <td>0.0</td>\n",
       "      <td>0.0</td>\n",
       "      <td>0.0</td>\n",
       "      <td>0.0</td>\n",
       "      <td>0.0</td>\n",
       "      <td>0.0</td>\n",
       "      <td>...</td>\n",
       "      <td>0.0</td>\n",
       "      <td>0.0</td>\n",
       "      <td>0.0</td>\n",
       "      <td>0.0</td>\n",
       "      <td>1.0</td>\n",
       "      <td>0.0</td>\n",
       "      <td>0.0</td>\n",
       "      <td>0.0</td>\n",
       "      <td>0.0</td>\n",
       "      <td>0.0</td>\n",
       "    </tr>\n",
       "  </tbody>\n",
       "</table>\n",
       "<p>5 rows × 84 columns</p>\n",
       "</div>"
      ],
      "text/plain": [
       "   White  Undetermined  POC  Cis Woman  Agender  Cis Man  Trans Woman  \\\n",
       "0    1.0           0.0  0.0        1.0      0.0      0.0          0.0   \n",
       "1    0.0           1.0  0.0        1.0      0.0      0.0          0.0   \n",
       "2    0.0           1.0  0.0        1.0      0.0      0.0          0.0   \n",
       "3    0.0           1.0  0.0        0.0      1.0      0.0          0.0   \n",
       "4    0.0           1.0  0.0        1.0      0.0      0.0          0.0   \n",
       "\n",
       "   Non Binary  Undetermined  Genderfluid  ...  horror  musical  mystery  \\\n",
       "0         0.0           0.0          0.0  ...     0.0      0.0      0.0   \n",
       "1         0.0           0.0          0.0  ...     0.0      0.0      0.0   \n",
       "2         0.0           0.0          0.0  ...     0.0      0.0      0.0   \n",
       "3         0.0           0.0          0.0  ...     0.0      0.0      0.0   \n",
       "4         0.0           0.0          0.0  ...     0.0      0.0      0.0   \n",
       "\n",
       "   romance  science fiction  short  sport  talk show  thriller  western  \n",
       "0      0.0              1.0    0.0    0.0        0.0       0.0      0.0  \n",
       "1      0.0              1.0    0.0    0.0        0.0       0.0      0.0  \n",
       "2      0.0              1.0    0.0    0.0        0.0       0.0      0.0  \n",
       "3      0.0              1.0    0.0    0.0        0.0       0.0      0.0  \n",
       "4      0.0              1.0    0.0    0.0        0.0       0.0      0.0  \n",
       "\n",
       "[5 rows x 84 columns]"
      ]
     },
     "execution_count": 77,
     "metadata": {},
     "output_type": "execute_result"
    }
   ],
   "source": [
    "scaler = MinMaxScaler()\n",
    "df_scaled = scaler.fit_transform(df_encoded)\n",
    "df_scaled = pd.DataFrame(df_scaled, columns=df_encoded.columns)\n",
    "df_scaled.head()"
   ]
  },
  {
   "cell_type": "markdown",
   "metadata": {},
   "source": [
    "## KMeans++"
   ]
  },
  {
   "cell_type": "code",
   "execution_count": 96,
   "metadata": {},
   "outputs": [],
   "source": [
    "# Initializing KMeans\n",
    "kmeans = KMeans(init='k-means++', random_state=23)\n",
    "\n",
    "# Training the model\n",
    "kmeans.fit(df_scaled)\n",
    "\n",
    "# Labeling the clusters\n",
    "clusters = kmeans.labels_\n",
    "\n",
    "x_embedded_2d = TSNE(n_components=2, learning_rate='auto', random_state=74).fit_transform(df_scaled)\n",
    "x_embedded_3d = TSNE(n_components=3, learning_rate='auto', random_state=74).fit_transform(df_scaled)"
   ]
  },
  {
   "cell_type": "code",
   "execution_count": 59,
   "metadata": {},
   "outputs": [
    {
     "data": {
      "image/png": "[encoded data removed]",
      "text/plain": [
       "<Figure size 600x600 with 1 Axes>"
      ]
     },
     "metadata": {},
     "output_type": "display_data"
    }
   ],
   "source": [
    "cluster_labels = kmeans.fit_predict(df_scaled)\n",
    "\n",
    "# Plot t-SNE reduced data with cluster labels\n",
    "plt.figure(figsize=(6,6))\n",
    "sns.scatterplot(\n",
    "    x= x_embedded_2d[:, 0], y=x_embedded_2d[:, 1],\n",
    "    hue=clusters,\n",
    "    palette=sns.color_palette(\"twilight\",8),\n",
    "    data=df_scaled,\n",
    "    alpha=0.7\n",
    "    )\n",
    "plt.title('TSNE of KMeans++ Clustering 2D')\n",
    "plt.legend(title='Clusters') \n",
    "plt.show()"
   ]
  },
  {
   "cell_type": "code",
   "execution_count": 94,
   "metadata": {},
   "outputs": [
    {
     "data": {
      "application/vnd.plotly.v1+json": {
       "config": {
        "plotlyServerURL": "https://plot.ly"
       },
       "data": [
        {
         "customdata": [
          [
           "White",
           [
            -14.630622863769531,
            -5.29574728012085
           ]
          ],
          [
           "Undetermined",
           [
            -5.3799285888671875,
            -20.179092407226562
           ]
          ],
          [
           "POC",
           [
            -5.3799285888671875,
            -20.179092407226562
           ]
          ],
          [
           "Cis Woman",
           [
            -3.5763614177703857,
            -21.37034797668457
           ]
          ],
          [
           "Agender",
           [
            -10.041621208190918,
            -18.643321990966797
           ]
          ],
          [
           "Cis Man",
           [
            11.698680877685547,
            16.52638816833496
           ]
          ],
          [
           "Trans Woman",
           [
            15.148429870605469,
            12.74771499633789
           ]
          ],
          [
           "Non Binary",
           [
            15.676482200622559,
            14.60705852508545
           ]
          ],
          [
           "Undetermined",
           [
            15.676482200622559,
            14.60705852508545
           ]
          ],
          [
           "Genderfluid",
           [
            20.767047882080078,
            25.51806640625
           ]
          ],
          [
           "Trans Man",
           [
            -19.96217918395996,
            -16.01327133178711
           ]
          ],
          [
           "Intersex",
           [
            -19.83582305908203,
            -16.761213302612305
           ]
          ],
          [
           "Lesbian",
           [
            -17.448482513427734,
            -2.6309404373168945
           ]
          ],
          [
           "Undetermined",
           [
            -18.112478256225586,
            -2.5425519943237305
           ]
          ],
          [
           "Ambiguous",
           [
            16.949180603027344,
            6.945934295654297
           ]
          ],
          [
           "Bisexual",
           [
            17.875694274902344,
            6.632779598236084
           ]
          ],
          [
           "Gay",
           [
            1.500427484512329,
            15.858128547668457
           ]
          ],
          [
           "Pansexual",
           [
            14.051313400268555,
            -22.30162239074707
           ]
          ],
          [
           "Straight",
           [
            -14.984188079833984,
            1.499289631843567
           ]
          ],
          [
           "Polyamorous",
           [
            19.834056854248047,
            -5.104860782623291
           ]
          ],
          [
           "Asexual",
           [
            19.834056854248047,
            -5.104860782623291
           ]
          ],
          [
           "Queer",
           [
            8.988697052001953,
            7.7964887619018555
           ]
          ],
          [
           "role",
           [
            5.843879222869873,
            18.04078483581543
           ]
          ],
          [
           "representation",
           [
            9.27346420288086,
            7.150116920471191
           ]
          ],
          [
           "TV_rating",
           [
            -0.8465046286582947,
            19.872676849365234
           ]
          ],
          [
           "IMDB_total_votes",
           [
            1.0658799409866333,
            18.935388565063477
           ]
          ],
          [
           "IMDB_rating",
           [
            1.107075572013855,
            20.93855094909668
           ]
          ],
          [
           "seasons",
           [
            1.3978800773620605,
            18.312877655029297
           ]
          ],
          [
           "total_episodes",
           [
            3.658597230911255,
            20.893234252929688
           ]
          ],
          [
           "duration",
           [
            14.147128105163574,
            14.639639854431152
           ]
          ],
          [
           "year",
           [
            -1.3406250476837158,
            23.68193817138672
           ]
          ],
          [
           "ABC",
           [
            10.722722053527832,
            27.095996856689453
           ]
          ],
          [
           "ABC Kids",
           [
            9.32665729522705,
            25.626535415649414
           ]
          ],
          [
           "Adult Swim",
           [
            12.381470680236816,
            2.901615619659424
           ]
          ],
          [
           "Amazon Prime",
           [
            10.034514427185059,
            4.660793304443359
           ]
          ],
          [
           "CW Seed",
           [
            11.528818130493164,
            5.410815238952637
           ]
          ],
          [
           "Cartoon Network",
           [
            12.834516525268555,
            3.900761365890503
           ]
          ],
          [
           "Comedy Central",
           [
            -2.786241292953491,
            19.35271453857422
           ]
          ],
          [
           "Crunchyroll Originals",
           [
            -3.9947755336761475,
            21.867948532104492
           ]
          ],
          [
           "DC Universe",
           [
            -3.439462184906006,
            21.643598556518555
           ]
          ],
          [
           "Disney Channel",
           [
            -11.036617279052734,
            -16.194355010986328
           ]
          ],
          [
           "Disney Junior",
           [
            -5.212959289550781,
            18.778499603271484
           ]
          ],
          [
           "Disney XD",
           [
            -15.202735900878906,
            -31.3393497467041
           ]
          ],
          [
           "FX Networks",
           [
            -15.202735900878906,
            -31.3393497467041
           ]
          ],
          [
           "Fox",
           [
            -27.286985397338867,
            -10.743088722229004
           ]
          ],
          [
           "HBO Max",
           [
            -26.887842178344727,
            -11.429930686950684
           ]
          ],
          [
           "Hulu",
           [
            -19.79081916809082,
            -2.579252004623413
           ]
          ],
          [
           "Kids' WB",
           [
            -20.832746505737305,
            -2.2885327339172363
           ]
          ],
          [
           "LOGO TV",
           [
            12.770547866821289,
            -19.47449493408203
           ]
          ],
          [
           "Myx TV",
           [
            13.684798240661621,
            -19.72212791442871
           ]
          ],
          [
           "Netflix",
           [
            12.997387886047363,
            -20.885459899902344
           ]
          ],
          [
           "Nickelodeon",
           [
            10.478489875793457,
            8.709461212158203
           ]
          ],
          [
           "PBS",
           [
            17.44344711303711,
            8.782633781433105
           ]
          ],
          [
           "Paramount +",
           [
            16.6967716217041,
            8.741966247558594
           ]
          ],
          [
           "Peacock",
           [
            3.709174871444702,
            -22.808780670166016
           ]
          ],
          [
           "Rooster Teeth",
           [
            11.81377124786377,
            -11.918903350830078
           ]
          ],
          [
           "Showtime",
           [
            -28.34760093688965,
            7.568641185760498
           ]
          ],
          [
           "SyFy",
           [
            -28.34760093688965,
            7.568641185760498
           ]
          ],
          [
           "TBS",
           [
            11.606637954711914,
            -9.147307395935059
           ]
          ],
          [
           "The Hub",
           [
            11.702760696411133,
            -9.996844291687012
           ]
          ],
          [
           "The WB",
           [
            -23.608091354370117,
            10.010741233825684
           ]
          ],
          [
           "Web Series",
           [
            -23.94687271118164,
            8.922597885131836
           ]
          ],
          [
           "Webseries",
           [
            -21.423282623291016,
            9.8450927734375
           ]
          ],
          [
           "YouTube",
           [
            -22.038101196289062,
            9.090463638305664
           ]
          ],
          [
           "action",
           [
            -22.197277069091797,
            7.769237041473389
           ]
          ],
          [
           "adenture",
           [
            -20.98541831970215,
            8.803682327270508
           ]
          ],
          [
           "adventure",
           [
            -25.074234008789062,
            10.970529556274414
           ]
          ],
          [
           "animation",
           [
            -30.064191818237305,
            2.8242156505584717
           ]
          ],
          [
           "comedy",
           [
            -31.393661499023438,
            4.164808750152588
           ]
          ],
          [
           "crime",
           [
            -32.06312561035156,
            3.6132214069366455
           ]
          ],
          [
           "drama",
           [
            -29.962066650390625,
            1.7603697776794434
           ]
          ],
          [
           "family",
           [
            -1.1242114305496216,
            -4.770909786224365
           ]
          ],
          [
           "fantasy",
           [
            -1.08492910861969,
            -6.1874003410339355
           ]
          ],
          [
           "history",
           [
            -9.262754440307617,
            5.2505574226379395
           ]
          ],
          [
           "horror",
           [
            -15.073867797851562,
            16.21025848388672
           ]
          ],
          [
           "musical",
           [
            -15.073139190673828,
            16.770343780517578
           ]
          ],
          [
           "mystery",
           [
            -9.887721061706543,
            4.471140384674072
           ]
          ],
          [
           "romance",
           [
            22.92337989807129,
            6.8646111488342285
           ]
          ],
          [
           "science fiction",
           [
            6.468174457550049,
            16.185821533203125
           ]
          ],
          [
           "short",
           [
            20.694862365722656,
            12.156906127929688
           ]
          ],
          [
           "sport",
           [
            5.109831809997559,
            15.862781524658203
           ]
          ],
          [
           "talk show",
           [
            -10.902430534362793,
            -24.009906768798828
           ]
          ],
          [
           "thriller",
           [
            -10.902430534362793,
            -24.009906768798828
           ]
          ],
          [
           "western",
           [
            -10.672085762023926,
            -20.327285766601562
           ]
          ]
         ],
         "hovertemplate": "<b>Feature:</b> %{customdata[0]}",
         "marker": {
          "color": [
           6,
           3,
           3,
           3,
           3,
           1,
           1,
           1,
           1,
           5,
           2,
           2,
           6,
           6,
           1,
           1,
           5,
           7,
           6,
           7,
           7,
           1,
           1,
           1,
           5,
           5,
           5,
           5,
           5,
           1,
           5,
           5,
           5,
           1,
           1,
           1,
           1,
           5,
           5,
           5,
           2,
           5,
           7,
           7,
           2,
           2,
           6,
           6,
           7,
           7,
           7,
           1,
           1,
           1,
           3,
           7,
           4,
           4,
           7,
           7,
           4,
           4,
           4,
           4,
           4,
           4,
           4,
           4,
           4,
           4,
           4,
           0,
           7,
           6,
           4,
           4,
           6,
           1,
           1,
           1,
           5,
           3,
           3,
           6,
           5,
           1,
           1,
           5,
           5,
           1,
           1,
           1,
           5,
           5,
           5,
           5,
           2,
           2,
           2,
           2,
           3,
           1,
           7,
           0,
           0,
           1,
           5,
           7,
           7,
           7,
           6,
           0,
           0,
           2,
           2,
           0,
           0,
           0,
           1,
           1,
           5,
           5,
           1,
           1,
           1,
           5,
           7,
           7,
           6,
           6,
           0,
           0,
           1,
           0,
           7,
           7,
           7,
           1,
           1,
           2,
           2,
           3,
           1,
           1,
           3,
           5,
           1,
           5,
           4,
           0,
           0,
           1,
           1,
           1,
           5,
           7,
           3,
           3,
           3,
           3,
           6,
           0,
           7,
           3,
           3,
           2,
           3,
           3,
           3,
           3,
           2,
           2,
           1,
           7,
           7,
           0,
           0,
           0,
           0,
           6,
           6,
           6,
           0,
           1,
           1,
           1,
           1,
           1,
           5,
           5,
           6,
           6,
           1,
           1,
           5,
           5,
           1,
           1,
           7,
           7,
           3,
           4,
           6,
           6,
           6,
           6,
           6,
           1,
           1,
           5,
           4,
           2,
           2,
           2,
           2,
           2,
           2,
           2,
           2,
           2,
           2,
           6,
           2,
           2,
           6,
           6,
           2,
           2,
           2,
           3,
           1,
           1,
           5,
           1,
           1,
           1,
           1,
           1,
           1,
           1,
           1,
           5,
           5,
           5,
           7,
           7,
           0,
           6,
           0,
           3,
           6,
           7,
           7,
           7,
           7,
           3,
           3,
           3,
           3,
           3,
           3,
           3,
           3,
           3,
           3,
           3,
           3,
           7,
           7,
           4,
           4,
           3,
           1,
           1,
           5,
           5,
           6,
           1,
           1,
           5,
           1,
           7,
           7,
           4,
           4,
           1,
           1,
           1,
           3,
           3,
           6,
           6,
           3,
           4,
           4,
           5,
           5,
           5,
           5,
           1,
           1,
           2,
           2,
           2,
           2,
           7,
           7,
           4,
           4,
           4,
           4,
           4,
           5,
           5,
           2,
           2,
           2,
           3,
           1,
           1,
           1,
           1,
           1,
           5,
           5,
           0,
           0,
           0,
           6,
           7,
           5,
           3,
           7,
           5,
           5,
           3,
           3,
           3,
           6,
           4,
           2,
           2,
           2,
           6,
           6,
           6,
           0,
           0,
           0,
           0,
           0,
           0,
           0
          ]
         },
         "mode": "markers",
         "type": "scatter",
         "x": [
          -14.630622863769531,
          -5.3799285888671875,
          -5.3799285888671875,
          -3.5763614177703857,
          -10.041621208190918,
          11.698680877685547,
          15.148429870605469,
          15.676482200622559,
          15.676482200622559,
          20.767047882080078,
          -19.96217918395996,
          -19.83582305908203,
          -17.448482513427734,
          -18.112478256225586,
          16.949180603027344,
          17.875694274902344,
          1.500427484512329,
          14.051313400268555,
          -14.984188079833984,
          19.834056854248047,
          19.834056854248047,
          8.988697052001953,
          5.843879222869873,
          9.27346420288086,
          -0.8465046286582947,
          1.0658799409866333,
          1.107075572013855,
          1.3978800773620605,
          3.658597230911255,
          14.147128105163574,
          -1.3406250476837158,
          10.722722053527832,
          9.32665729522705,
          12.381470680236816,
          10.034514427185059,
          11.528818130493164,
          12.834516525268555,
          -2.786241292953491,
          -3.9947755336761475,
          -3.439462184906006,
          -11.036617279052734,
          -5.212959289550781,
          -15.202735900878906,
          -15.202735900878906,
          -27.286985397338867,
          -26.887842178344727,
          -19.79081916809082,
          -20.832746505737305,
          12.770547866821289,
          13.684798240661621,
          12.997387886047363,
          10.478489875793457,
          17.44344711303711,
          16.6967716217041,
          3.709174871444702,
          11.81377124786377,
          -28.34760093688965,
          -28.34760093688965,
          11.606637954711914,
          11.702760696411133,
          -23.608091354370117,
          -23.94687271118164,
          -21.423282623291016,
          -22.038101196289062,
          -22.197277069091797,
          -20.98541831970215,
          -25.074234008789062,
          -30.064191818237305,
          -31.393661499023438,
          -32.06312561035156,
          -29.962066650390625,
          -1.1242114305496216,
          -1.08492910861969,
          -9.262754440307617,
          -15.073867797851562,
          -15.073139190673828,
          -9.887721061706543,
          22.92337989807129,
          6.468174457550049,
          20.694862365722656,
          5.109831809997559,
          -10.902430534362793,
          -10.902430534362793,
          -10.672085762023926,
          8.757210731506348,
          12.397278785705566,
          11.325592994689941,
          -0.4090742766857147,
          -2.485053539276123,
          15.944745063781738,
          15.250158309936523,
          16.67608642578125,
          15.02397632598877,
          -0.6579331755638123,
          21.640769958496094,
          11.331521034240723,
          -19.79654884338379,
          -19.59415626525879,
          -7.891858100891113,
          -8.527112007141113,
          -6.654900550842285,
          19.19249153137207,
          4.674196243286133,
          4.358471393585205,
          3.9288387298583984,
          18.310440063476562,
          13.113255500793457,
          -6.89404821395874,
          -7.716541290283203,
          -7.663863658905029,
          -8.850192070007324,
          0.9532787203788757,
          0.43422573804855347,
          -16.986385345458984,
          -16.938472747802734,
          0.6780167818069458,
          -5.8823418617248535,
          -5.8823418617248535,
          33.559329986572266,
          34.563175201416016,
          36.361209869384766,
          36.233882904052734,
          33.15898132324219,
          34.43075942993164,
          33.657249450683594,
          35.09986877441406,
          14.955547332763672,
          14.55737018585205,
          -12.732247352600098,
          -12.121055603027344,
          -10.405096054077148,
          -10.808022499084473,
          11.491621017456055,
          -3.189812183380127,
          13.833806037902832,
          12.936341285705566,
          12.909698486328125,
          13.260309219360352,
          11.125484466552734,
          -2.0629167556762695,
          -1.213011384010315,
          -4.770086288452148,
          23.58473777770996,
          22.95853042602539,
          6.064476013183594,
          -7.080821990966797,
          19.342803955078125,
          3.484205484390259,
          -30.174341201782227,
          -1.841554880142212,
          -3.4627797603607178,
          14.114395141601562,
          14.114395141601562,
          10.465325355529785,
          -3.454343795776367,
          10.075007438659668,
          8.70076847076416,
          7.499018669128418,
          7.9187750816345215,
          7.499018669128418,
          -17.532302856445312,
          1.6839936971664429,
          0.6528676748275757,
          -6.988837718963623,
          -7.79436731338501,
          -15.840574264526367,
          -7.548378944396973,
          -3.445690631866455,
          -3.9396798610687256,
          -5.813436985015869,
          -25.80902099609375,
          -25.07056427001953,
          2.6717119216918945,
          26.717466354370117,
          26.698257446289062,
          -1.4846125841140747,
          -1.8491228818893433,
          -3.0595383644104004,
          -0.7138034105300903,
          -13.071453094482422,
          -12.531676292419434,
          -14.122989654541016,
          -12.010987281799316,
          29.802509307861328,
          28.615337371826172,
          27.918758392333984,
          27.918758392333984,
          27.4686279296875,
          29.689409255981445,
          30.329988479614258,
          -8.623711585998535,
          -8.684845924377441,
          8.843029975891113,
          17.10040283203125,
          -5.650568008422852,
          -5.650568008422852,
          10.125710487365723,
          10.557928085327148,
          11.491412162780762,
          11.491412162780762,
          5.149649143218994,
          -25.8205509185791,
          -16.290550231933594,
          -15.39890193939209,
          -16.541168212890625,
          -18.05066680908203,
          -17.478796005249023,
          21.11412811279297,
          19.71142578125,
          -0.5222218036651611,
          -21.922561645507812,
          -3.7643744945526123,
          -1.573056697845459,
          -3.7643744945526123,
          -11.747654914855957,
          -2.2670276165008545,
          -7.93021297454834,
          -7.457178115844727,
          -16.092639923095703,
          -15.237475395202637,
          -16.029544830322266,
          -15.896957397460938,
          -15.395819664001465,
          -13.910015106201172,
          -15.121816635131836,
          -13.744473457336426,
          -13.464151382446289,
          -14.085301399230957,
          -12.236034393310547,
          -10.963531494140625,
          8.412400245666504,
          21.79848289489746,
          22.59292221069336,
          20.32765007019043,
          23.0242977142334,
          20.81431770324707,
          18.43229103088379,
          22.339643478393555,
          19.655969619750977,
          19.333227157592773,
          20.798738479614258,
          15.922125816345215,
          15.917802810668945,
          19.158294677734375,
          21.980710983276367,
          22.92626953125,
          4.810464382171631,
          -8.566842079162598,
          -7.616796493530273,
          -1.664004921913147,
          -23.051523208618164,
          17.804901123046875,
          17.541250228881836,
          5.358846664428711,
          0.8720598816871643,
          -3.8461108207702637,
          -0.5918125510215759,
          0.789686381816864,
          0.5843357443809509,
          -0.44336333870887756,
          -0.6335693597793579,
          -1.881646990776062,
          -1.6398049592971802,
          -2.670092821121216,
          -1.6582304239273071,
          -0.7678191065788269,
          8.150405883789062,
          9.682717323303223,
          9.682717323303223,
          5.006672382354736,
          5.373388767242432,
          7.244459629058838,
          6.620315074920654,
          6.298453330993652,
          5.030920028686523,
          5.730116367340088,
          -17.833511352539062,
          17.38468360900879,
          16.796560287475586,
          -6.638190746307373,
          9.229955673217773,
          16.625614166259766,
          16.5533504486084,
          -26.634674072265625,
          -26.160778045654297,
          13.813591003417969,
          13.19382381439209,
          12.701556205749512,
          -9.450284004211426,
          -10.093674659729004,
          -20.21697425842285,
          -19.929235458374023,
          -9.609530448913574,
          -15.986573219299316,
          -15.637937545776367,
          -9.243634223937988,
          -8.139715194702148,
          -8.376110076904297,
          -8.139715194702148,
          15.871253967285156,
          10.306477546691895,
          -14.409916877746582,
          -15.755634307861328,
          -14.121018409729004,
          -16.155780792236328,
          12.990015029907227,
          12.74617862701416,
          -20.145904541015625,
          -20.959064483642578,
          -21.015836715698242,
          -19.25252914428711,
          -22.79476547241211,
          8.077190399169922,
          10.605710983276367,
          -20.971433639526367,
          -20.571598052978516,
          -21.74764633178711,
          -20.83751106262207,
          25.32950782775879,
          25.270509719848633,
          24.81393051147461,
          24.81786346435547,
          23.846445083618164,
          24.49419403076172,
          23.21224594116211,
          6.667603015899658,
          6.606058120727539,
          7.530054569244385,
          -11.245590209960938,
          21.958255767822266,
          9.532624244689941,
          -2.286705255508423,
          3.873023509979248,
          -2.563373565673828,
          -1.4361052513122559,
          -7.493393421173096,
          -8.425734519958496,
          -7.357245445251465,
          -12.871807098388672,
          -29.10097312927246,
          -2.4050533771514893,
          -4.10596227645874,
          -2.4050533771514893,
          -23.140365600585938,
          -24.093547821044922,
          -22.787813186645508,
          6.4254961013793945,
          7.2448272705078125,
          6.287068843841553,
          7.3456597328186035,
          3.656801700592041,
          3.860948085784912,
          5.912641525268555
         ],
         "y": [
          -5.29574728012085,
          -20.179092407226562,
          -20.179092407226562,
          -21.37034797668457,
          -18.643321990966797,
          16.52638816833496,
          12.74771499633789,
          14.60705852508545,
          14.60705852508545,
          25.51806640625,
          -16.01327133178711,
          -16.761213302612305,
          -2.6309404373168945,
          -2.5425519943237305,
          6.945934295654297,
          6.632779598236084,
          15.858128547668457,
          -22.30162239074707,
          1.499289631843567,
          -5.104860782623291,
          -5.104860782623291,
          7.7964887619018555,
          18.04078483581543,
          7.150116920471191,
          19.872676849365234,
          18.935388565063477,
          20.93855094909668,
          18.312877655029297,
          20.893234252929688,
          14.639639854431152,
          23.68193817138672,
          27.095996856689453,
          25.626535415649414,
          2.901615619659424,
          4.660793304443359,
          5.410815238952637,
          3.900761365890503,
          19.35271453857422,
          21.867948532104492,
          21.643598556518555,
          -16.194355010986328,
          18.778499603271484,
          -31.3393497467041,
          -31.3393497467041,
          -10.743088722229004,
          -11.429930686950684,
          -2.579252004623413,
          -2.2885327339172363,
          -19.47449493408203,
          -19.72212791442871,
          -20.885459899902344,
          8.709461212158203,
          8.782633781433105,
          8.741966247558594,
          -22.808780670166016,
          -11.918903350830078,
          7.568641185760498,
          7.568641185760498,
          -9.147307395935059,
          -9.996844291687012,
          10.010741233825684,
          8.922597885131836,
          9.8450927734375,
          9.090463638305664,
          7.769237041473389,
          8.803682327270508,
          10.970529556274414,
          2.8242156505584717,
          4.164808750152588,
          3.6132214069366455,
          1.7603697776794434,
          -4.770909786224365,
          -6.1874003410339355,
          5.2505574226379395,
          16.21025848388672,
          16.770343780517578,
          4.471140384674072,
          6.8646111488342285,
          16.185821533203125,
          12.156906127929688,
          15.862781524658203,
          -24.009906768798828,
          -24.009906768798828,
          -20.327285766601562,
          24.3389835357666,
          6.0550031661987305,
          6.311191558837891,
          17.682960510253906,
          18.617462158203125,
          16.805431365966797,
          18.886999130249023,
          15.658157348632812,
          20.400720596313477,
          24.13286781311035,
          25.154264450073242,
          26.47963523864746,
          -10.601603507995605,
          -10.091038703918457,
          -15.690340995788574,
          -15.870476722717285,
          -16.597684860229492,
          11.286459922790527,
          2.067535877227783,
          3.5201938152313232,
          3.2415096759796143,
          14.170892715454102,
          27.38401222229004,
          -7.124327182769775,
          -7.189836025238037,
          -5.873523235321045,
          -6.310646057128906,
          3.9027910232543945,
          4.511999607086182,
          -24.70726203918457,
          -24.19692039489746,
          -0.22169214487075806,
          5.051603317260742,
          5.051603317260742,
          -4.2910075187683105,
          -3.56856369972229,
          -3.566084384918213,
          -4.383554458618164,
          -5.537919521331787,
          -5.488943576812744,
          -6.555441379547119,
          -7.006832122802734,
          -3.6753292083740234,
          -3.3362643718719482,
          7.904484748840332,
          8.269104957580566,
          9.579750061035156,
          10.067536354064941,
          7.978943824768066,
          -4.327178955078125,
          -14.087851524353027,
          -14.92408275604248,
          -13.475849151611328,
          13.256186485290527,
          13.059309959411621,
          -8.153940200805664,
          -8.287064552307129,
          -25.1113338470459,
          5.375621318817139,
          5.234661102294922,
          -24.20942497253418,
          21.97251319885254,
          3.48443341255188,
          14.311982154846191,
          9.00751781463623,
          2.447709083557129,
          3.3527989387512207,
          8.13344669342041,
          8.13344669342041,
          17.721906661987305,
          17.18396759033203,
          -26.227079391479492,
          -27.834001541137695,
          -28.34748649597168,
          -27.08904266357422,
          -28.34748649597168,
          -0.743955135345459,
          -9.988319396972656,
          -10.908097267150879,
          -22.40194320678711,
          -22.014244079589844,
          -15.688643455505371,
          -19.722944259643555,
          -22.254165649414062,
          -24.00008201599121,
          -22.527019500732422,
          -12.95318603515625,
          -13.23410701751709,
          8.773316383361816,
          1.3151130676269531,
          0.8663222193717957,
          -0.9779168963432312,
          -1.8246639966964722,
          -0.42871737480163574,
          -1.7918672561645508,
          -1.4741694927215576,
          -2.752392530441284,
          -1.693246603012085,
          -0.7093126177787781,
          8.921334266662598,
          7.84851598739624,
          9.061142921447754,
          9.061142921447754,
          7.862473011016846,
          11.799406051635742,
          11.528083801269531,
          -1.7185858488082886,
          -2.228954792022705,
          13.542625427246094,
          10.585004806518555,
          17.283843994140625,
          17.283843994140625,
          20.17024803161621,
          20.324304580688477,
          -21.31083106994629,
          -21.31083106994629,
          -23.52210235595703,
          5.112595558166504,
          2.8450019359588623,
          3.9599568843841553,
          3.4600605964660645,
          2.8399574756622314,
          4.657776832580566,
          7.751620292663574,
          8.844334602355957,
          13.382861137390137,
          6.1881585121154785,
          -12.001448631286621,
          -12.203804969787598,
          -12.001448631286621,
          -13.685564041137695,
          -13.572646141052246,
          -11.202157974243164,
          -11.539156913757324,
          -10.233907699584961,
          -9.63497543334961,
          -8.95919418334961,
          -6.293422698974609,
          -12.609491348266602,
          -10.98646354675293,
          -6.693135738372803,
          -8.685934066772461,
          -14.061506271362305,
          -13.589941024780273,
          -10.31335735321045,
          -10.975642204284668,
          16.262601852416992,
          1.0465576648712158,
          1.5449626445770264,
          17.70113182067871,
          15.88823413848877,
          15.430074691772461,
          18.79391098022461,
          17.562971115112305,
          15.918476104736328,
          17.007253646850586,
          16.640859603881836,
          23.53425407409668,
          21.373435974121094,
          20.867450714111328,
          -1.0488555431365967,
          -6.932460308074951,
          -1.1011083126068115,
          0.9272164702415466,
          1.4040451049804688,
          -21.66398811340332,
          -7.202609062194824,
          -7.8479204177856445,
          -7.457030296325684,
          -11.39987850189209,
          -13.151324272155762,
          -31.623754501342773,
          -31.561433792114258,
          -27.542146682739258,
          -26.709556579589844,
          -28.062585830688477,
          -26.068220138549805,
          -27.816965103149414,
          -26.96246337890625,
          -31.69708251953125,
          -32.29111099243164,
          -30.453893661499023,
          -18.231870651245117,
          -17.072425842285156,
          -17.072425842285156,
          -18.041034698486328,
          -17.520008087158203,
          -19.148759841918945,
          11.033098220825195,
          10.243000030517578,
          25.282224655151367,
          25.637786865234375,
          -4.484208106994629,
          4.265876770019531,
          4.246992111206055,
          15.579931259155273,
          11.693218231201172,
          0.24314752221107483,
          0.9876629710197449,
          2.221677303314209,
          2.2590651512145996,
          10.817854881286621,
          11.63372802734375,
          10.793543815612793,
          -28.392961502075195,
          -28.037857055664062,
          -5.239255428314209,
          -6.310372352600098,
          -29.812721252441406,
          19.713268280029297,
          20.01951789855957,
          18.756189346313477,
          18.66180992126465,
          20.443952560424805,
          18.66180992126465,
          12.037810325622559,
          14.235346794128418,
          -17.016305923461914,
          -17.1422176361084,
          -18.272432327270508,
          -17.73719024658203,
          -5.667964458465576,
          -6.495689392089844,
          13.312299728393555,
          12.866541862487793,
          14.359258651733398,
          12.335745811462402,
          15.125447273254395,
          26.395919799804688,
          28.900270462036133,
          -20.7867488861084,
          -18.688854217529297,
          -20.19890022277832,
          -21.75501251220703,
          -6.024010181427002,
          -5.651738166809082,
          22.36081314086914,
          21.351428985595703,
          21.896682739257812,
          24.575620651245117,
          23.747920989990234,
          -1.125862956047058,
          -2.0522232055664062,
          -1.603655457496643,
          1.9816185235977173,
          -2.3492140769958496,
          28.152742385864258,
          -19.06354522705078,
          -13.450915336608887,
          14.599542617797852,
          14.051858901977539,
          -25.735525131225586,
          -26.22086524963379,
          -26.59624671936035,
          -5.871782302856445,
          5.62539005279541,
          -10.698043823242188,
          -10.756257057189941,
          -10.698043823242188,
          -4.659129619598389,
          -5.587651252746582,
          -5.253715991973877,
          -6.390966892242432,
          -7.449751853942871,
          -5.18705415725708,
          -6.144496917724609,
          -5.837691307067871,
          -5.235002040863037,
          -7.860327243804932
         ]
        }
       ],
       "layout": {
        "height": 600,
        "template": {
         "data": {
          "bar": [
           {
            "error_x": {
             "color": "#2a3f5f"
            },
            "error_y": {
             "color": "#2a3f5f"
            },
            "marker": {
             "line": {
              "color": "#E5ECF6",
              "width": 0.5
             },
             "pattern": {
              "fillmode": "overlay",
              "size": 10,
              "solidity": 0.2
             }
            },
            "type": "bar"
           }
          ],
          "barpolar": [
           {
            "marker": {
             "line": {
              "color": "#E5ECF6",
              "width": 0.5
             },
             "pattern": {
              "fillmode": "overlay",
              "size": 10,
              "solidity": 0.2
             }
            },
            "type": "barpolar"
           }
          ],
          "carpet": [
           {
            "aaxis": {
             "endlinecolor": "#2a3f5f",
             "gridcolor": "white",
             "linecolor": "white",
             "minorgridcolor": "white",
             "startlinecolor": "#2a3f5f"
            },
            "baxis": {
             "endlinecolor": "#2a3f5f",
             "gridcolor": "white",
             "linecolor": "white",
             "minorgridcolor": "white",
             "startlinecolor": "#2a3f5f"
            },
            "type": "carpet"
           }
          ],
          "choropleth": [
           {
            "colorbar": {
             "outlinewidth": 0,
             "ticks": ""
            },
            "type": "choropleth"
           }
          ],
          "contour": [
           {
            "colorbar": {
             "outlinewidth": 0,
             "ticks": ""
            },
            "colorscale": [
             [
              0,
              "#0d0887"
             ],
             [
              0.1111111111111111,
              "#46039f"
             ],
             [
              0.2222222222222222,
              "#7201a8"
             ],
             [
              0.3333333333333333,
              "#9c179e"
             ],
             [
              0.4444444444444444,
              "#bd3786"
             ],
             [
              0.5555555555555556,
              "#d8576b"
             ],
             [
              0.6666666666666666,
              "#ed7953"
             ],
             [
              0.7777777777777778,
              "#fb9f3a"
             ],
             [
              0.8888888888888888,
              "#fdca26"
             ],
             [
              1,
              "#f0f921"
             ]
            ],
            "type": "contour"
           }
          ],
          "contourcarpet": [
           {
            "colorbar": {
             "outlinewidth": 0,
             "ticks": ""
            },
            "type": "contourcarpet"
           }
          ],
          "heatmap": [
           {
            "colorbar": {
             "outlinewidth": 0,
             "ticks": ""
            },
            "colorscale": [
             [
              0,
              "#0d0887"
             ],
             [
              0.1111111111111111,
              "#46039f"
             ],
             [
              0.2222222222222222,
              "#7201a8"
             ],
             [
              0.3333333333333333,
              "#9c179e"
             ],
             [
              0.4444444444444444,
              "#bd3786"
             ],
             [
              0.5555555555555556,
              "#d8576b"
             ],
             [
              0.6666666666666666,
              "#ed7953"
             ],
             [
              0.7777777777777778,
              "#fb9f3a"
             ],
             [
              0.8888888888888888,
              "#fdca26"
             ],
             [
              1,
              "#f0f921"
             ]
            ],
            "type": "heatmap"
           }
          ],
          "heatmapgl": [
           {
            "colorbar": {
             "outlinewidth": 0,
             "ticks": ""
            },
            "colorscale": [
             [
              0,
              "#0d0887"
             ],
             [
              0.1111111111111111,
              "#46039f"
             ],
             [
              0.2222222222222222,
              "#7201a8"
             ],
             [
              0.3333333333333333,
              "#9c179e"
             ],
             [
              0.4444444444444444,
              "#bd3786"
             ],
             [
              0.5555555555555556,
              "#d8576b"
             ],
             [
              0.6666666666666666,
              "#ed7953"
             ],
             [
              0.7777777777777778,
              "#fb9f3a"
             ],
             [
              0.8888888888888888,
              "#fdca26"
             ],
             [
              1,
              "#f0f921"
             ]
            ],
            "type": "heatmapgl"
           }
          ],
          "histogram": [
           {
            "marker": {
             "pattern": {
              "fillmode": "overlay",
              "size": 10,
              "solidity": 0.2
             }
            },
            "type": "histogram"
           }
          ],
          "histogram2d": [
           {
            "colorbar": {
             "outlinewidth": 0,
             "ticks": ""
            },
            "colorscale": [
             [
              0,
              "#0d0887"
             ],
             [
              0.1111111111111111,
              "#46039f"
             ],
             [
              0.2222222222222222,
              "#7201a8"
             ],
             [
              0.3333333333333333,
              "#9c179e"
             ],
             [
              0.4444444444444444,
              "#bd3786"
             ],
             [
              0.5555555555555556,
              "#d8576b"
             ],
             [
              0.6666666666666666,
              "#ed7953"
             ],
             [
              0.7777777777777778,
              "#fb9f3a"
             ],
             [
              0.8888888888888888,
              "#fdca26"
             ],
             [
              1,
              "#f0f921"
             ]
            ],
            "type": "histogram2d"
           }
          ],
          "histogram2dcontour": [
           {
            "colorbar": {
             "outlinewidth": 0,
             "ticks": ""
            },
            "colorscale": [
             [
              0,
              "#0d0887"
             ],
             [
              0.1111111111111111,
              "#46039f"
             ],
             [
              0.2222222222222222,
              "#7201a8"
             ],
             [
              0.3333333333333333,
              "#9c179e"
             ],
             [
              0.4444444444444444,
              "#bd3786"
             ],
             [
              0.5555555555555556,
              "#d8576b"
             ],
             [
              0.6666666666666666,
              "#ed7953"
             ],
             [
              0.7777777777777778,
              "#fb9f3a"
             ],
             [
              0.8888888888888888,
              "#fdca26"
             ],
             [
              1,
              "#f0f921"
             ]
            ],
            "type": "histogram2dcontour"
           }
          ],
          "mesh3d": [
           {
            "colorbar": {
             "outlinewidth": 0,
             "ticks": ""
            },
            "type": "mesh3d"
           }
          ],
          "parcoords": [
           {
            "line": {
             "colorbar": {
              "outlinewidth": 0,
              "ticks": ""
             }
            },
            "type": "parcoords"
           }
          ],
          "pie": [
           {
            "automargin": true,
            "type": "pie"
           }
          ],
          "scatter": [
           {
            "fillpattern": {
             "fillmode": "overlay",
             "size": 10,
             "solidity": 0.2
            },
            "type": "scatter"
           }
          ],
          "scatter3d": [
           {
            "line": {
             "colorbar": {
              "outlinewidth": 0,
              "ticks": ""
             }
            },
            "marker": {
             "colorbar": {
              "outlinewidth": 0,
              "ticks": ""
             }
            },
            "type": "scatter3d"
           }
          ],
          "scattercarpet": [
           {
            "marker": {
             "colorbar": {
              "outlinewidth": 0,
              "ticks": ""
             }
            },
            "type": "scattercarpet"
           }
          ],
          "scattergeo": [
           {
            "marker": {
             "colorbar": {
              "outlinewidth": 0,
              "ticks": ""
             }
            },
            "type": "scattergeo"
           }
          ],
          "scattergl": [
           {
            "marker": {
             "colorbar": {
              "outlinewidth": 0,
              "ticks": ""
             }
            },
            "type": "scattergl"
           }
          ],
          "scattermapbox": [
           {
            "marker": {
             "colorbar": {
              "outlinewidth": 0,
              "ticks": ""
             }
            },
            "type": "scattermapbox"
           }
          ],
          "scatterpolar": [
           {
            "marker": {
             "colorbar": {
              "outlinewidth": 0,
              "ticks": ""
             }
            },
            "type": "scatterpolar"
           }
          ],
          "scatterpolargl": [
           {
            "marker": {
             "colorbar": {
              "outlinewidth": 0,
              "ticks": ""
             }
            },
            "type": "scatterpolargl"
           }
          ],
          "scatterternary": [
           {
            "marker": {
             "colorbar": {
              "outlinewidth": 0,
              "ticks": ""
             }
            },
            "type": "scatterternary"
           }
          ],
          "surface": [
           {
            "colorbar": {
             "outlinewidth": 0,
             "ticks": ""
            },
            "colorscale": [
             [
              0,
              "#0d0887"
             ],
             [
              0.1111111111111111,
              "#46039f"
             ],
             [
              0.2222222222222222,
              "#7201a8"
             ],
             [
              0.3333333333333333,
              "#9c179e"
             ],
             [
              0.4444444444444444,
              "#bd3786"
             ],
             [
              0.5555555555555556,
              "#d8576b"
             ],
             [
              0.6666666666666666,
              "#ed7953"
             ],
             [
              0.7777777777777778,
              "#fb9f3a"
             ],
             [
              0.8888888888888888,
              "#fdca26"
             ],
             [
              1,
              "#f0f921"
             ]
            ],
            "type": "surface"
           }
          ],
          "table": [
           {
            "cells": {
             "fill": {
              "color": "#EBF0F8"
             },
             "line": {
              "color": "white"
             }
            },
            "header": {
             "fill": {
              "color": "#C8D4E3"
             },
             "line": {
              "color": "white"
             }
            },
            "type": "table"
           }
          ]
         },
         "layout": {
          "annotationdefaults": {
           "arrowcolor": "#2a3f5f",
           "arrowhead": 0,
           "arrowwidth": 1
          },
          "autotypenumbers": "strict",
          "coloraxis": {
           "colorbar": {
            "outlinewidth": 0,
            "ticks": ""
           }
          },
          "colorscale": {
           "diverging": [
            [
             0,
             "#8e0152"
            ],
            [
             0.1,
             "#c51b7d"
            ],
            [
             0.2,
             "#de77ae"
            ],
            [
             0.3,
             "#f1b6da"
            ],
            [
             0.4,
             "#fde0ef"
            ],
            [
             0.5,
             "#f7f7f7"
            ],
            [
             0.6,
             "#e6f5d0"
            ],
            [
             0.7,
             "#b8e186"
            ],
            [
             0.8,
             "#7fbc41"
            ],
            [
             0.9,
             "#4d9221"
            ],
            [
             1,
             "#276419"
            ]
           ],
           "sequential": [
            [
             0,
             "#0d0887"
            ],
            [
             0.1111111111111111,
             "#46039f"
            ],
            [
             0.2222222222222222,
             "#7201a8"
            ],
            [
             0.3333333333333333,
             "#9c179e"
            ],
            [
             0.4444444444444444,
             "#bd3786"
            ],
            [
             0.5555555555555556,
             "#d8576b"
            ],
            [
             0.6666666666666666,
             "#ed7953"
            ],
            [
             0.7777777777777778,
             "#fb9f3a"
            ],
            [
             0.8888888888888888,
             "#fdca26"
            ],
            [
             1,
             "#f0f921"
            ]
           ],
           "sequentialminus": [
            [
             0,
             "#0d0887"
            ],
            [
             0.1111111111111111,
             "#46039f"
            ],
            [
             0.2222222222222222,
             "#7201a8"
            ],
            [
             0.3333333333333333,
             "#9c179e"
            ],
            [
             0.4444444444444444,
             "#bd3786"
            ],
            [
             0.5555555555555556,
             "#d8576b"
            ],
            [
             0.6666666666666666,
             "#ed7953"
            ],
            [
             0.7777777777777778,
             "#fb9f3a"
            ],
            [
             0.8888888888888888,
             "#fdca26"
            ],
            [
             1,
             "#f0f921"
            ]
           ]
          },
          "colorway": [
           "#636efa",
           "#EF553B",
           "#00cc96",
           "#ab63fa",
           "#FFA15A",
           "#19d3f3",
           "#FF6692",
           "#B6E880",
           "#FF97FF",
           "#FECB52"
          ],
          "font": {
           "color": "#2a3f5f"
          },
          "geo": {
           "bgcolor": "white",
           "lakecolor": "white",
           "landcolor": "#E5ECF6",
           "showlakes": true,
           "showland": true,
           "subunitcolor": "white"
          },
          "hoverlabel": {
           "align": "left"
          },
          "hovermode": "closest",
          "mapbox": {
           "style": "light"
          },
          "paper_bgcolor": "white",
          "plot_bgcolor": "#E5ECF6",
          "polar": {
           "angularaxis": {
            "gridcolor": "white",
            "linecolor": "white",
            "ticks": ""
           },
           "bgcolor": "#E5ECF6",
           "radialaxis": {
            "gridcolor": "white",
            "linecolor": "white",
            "ticks": ""
           }
          },
          "scene": {
           "xaxis": {
            "backgroundcolor": "#E5ECF6",
            "gridcolor": "white",
            "gridwidth": 2,
            "linecolor": "white",
            "showbackground": true,
            "ticks": "",
            "zerolinecolor": "white"
           },
           "yaxis": {
            "backgroundcolor": "#E5ECF6",
            "gridcolor": "white",
            "gridwidth": 2,
            "linecolor": "white",
            "showbackground": true,
            "ticks": "",
            "zerolinecolor": "white"
           },
           "zaxis": {
            "backgroundcolor": "#E5ECF6",
            "gridcolor": "white",
            "gridwidth": 2,
            "linecolor": "white",
            "showbackground": true,
            "ticks": "",
            "zerolinecolor": "white"
           }
          },
          "shapedefaults": {
           "line": {
            "color": "#2a3f5f"
           }
          },
          "ternary": {
           "aaxis": {
            "gridcolor": "white",
            "linecolor": "white",
            "ticks": ""
           },
           "baxis": {
            "gridcolor": "white",
            "linecolor": "white",
            "ticks": ""
           },
           "bgcolor": "#E5ECF6",
           "caxis": {
            "gridcolor": "white",
            "linecolor": "white",
            "ticks": ""
           }
          },
          "title": {
           "x": 0.05
          },
          "xaxis": {
           "automargin": true,
           "gridcolor": "white",
           "linecolor": "white",
           "ticks": "",
           "title": {
            "standoff": 15
           },
           "zerolinecolor": "white",
           "zerolinewidth": 2
          },
          "yaxis": {
           "automargin": true,
           "gridcolor": "white",
           "linecolor": "white",
           "ticks": "",
           "title": {
            "standoff": 15
           },
           "zerolinecolor": "white",
           "zerolinewidth": 2
          }
         }
        },
        "width": 600
       }
      }
     },
     "metadata": {},
     "output_type": "display_data"
    }
   ],
   "source": [
    "import plotly.graph_objects as go\n",
    "\n",
    "# Zip feature names with t-SNE data\n",
    "custom_data = list(zip(df_scaled.columns, x_embedded_2d))\n",
    "\n",
    "# Define hover template\n",
    "hover_template = '<b>Feature:</b> %{customdata[0]}'\n",
    "\n",
    "# Plot t-SNE visualization with hover labels\n",
    "fig = go.Figure()\n",
    "\n",
    "fig.add_trace(go.Scatter(\n",
    "    x=x_embedded_2d[:, 0], \n",
    "    y=x_embedded_2d[:, 1], \n",
    "    mode='markers',\n",
    "    marker=dict(color=clusters),\n",
    "    customdata=custom_data,\n",
    "    hovertemplate=hover_template,\n",
    "))\n",
    "\n",
    "fig.update_layout(width=600, height=600)\n",
    "\n",
    "fig.show()\n",
    "\n"
   ]
  },
  {
   "cell_type": "code",
   "execution_count": 88,
   "metadata": {},
   "outputs": [
    {
     "data": {
      "application/vnd.plotly.v1+json": {
       "config": {
        "plotlyServerURL": "https://plot.ly"
       },
       "data": [
        {
         "customdata": [
          "White",
          "Undetermined",
          "POC",
          "Cis Woman",
          "Agender",
          "Cis Man",
          "Trans Woman",
          "Non Binary",
          "Undetermined",
          "Genderfluid",
          "Trans Man",
          "Intersex",
          "Lesbian",
          "Undetermined",
          "Ambiguous",
          "Bisexual",
          "Gay",
          "Pansexual",
          "Straight",
          "Polyamorous",
          "Asexual",
          "Queer",
          "role",
          "representation",
          "TV_rating",
          "IMDB_total_votes",
          "IMDB_rating",
          "seasons",
          "total_episodes",
          "duration",
          "year",
          "ABC",
          "ABC Kids",
          "Adult Swim",
          "Amazon Prime",
          "CW Seed",
          "Cartoon Network",
          "Comedy Central",
          "Crunchyroll Originals",
          "DC Universe",
          "Disney Channel",
          "Disney Junior",
          "Disney XD",
          "FX Networks",
          "Fox",
          "HBO Max",
          "Hulu",
          "Kids' WB",
          "LOGO TV",
          "Myx TV",
          "Netflix",
          "Nickelodeon",
          "PBS",
          "Paramount +",
          "Peacock",
          "Rooster Teeth",
          "Showtime",
          "SyFy",
          "TBS",
          "The Hub",
          "The WB",
          "Web Series",
          "Webseries",
          "YouTube",
          "action",
          "adenture",
          "adventure",
          "animation",
          "comedy",
          "crime",
          "drama",
          "family",
          "fantasy",
          "history",
          "horror",
          "musical",
          "mystery",
          "romance",
          "science fiction",
          "short",
          "sport",
          "talk show",
          "thriller",
          "western"
         ],
         "hovertemplate": "<b>Feature:</b> %{customdata}",
         "marker": {
          "color": [
           6,
           3,
           3,
           3,
           3,
           1,
           1,
           1,
           1,
           5,
           2,
           2,
           6,
           6,
           1,
           1,
           5,
           7,
           6,
           7,
           7,
           1,
           1,
           1,
           5,
           5,
           5,
           5,
           5,
           1,
           5,
           5,
           5,
           1,
           1,
           1,
           1,
           5,
           5,
           5,
           2,
           5,
           7,
           7,
           2,
           2,
           6,
           6,
           7,
           7,
           7,
           1,
           1,
           1,
           3,
           7,
           4,
           4,
           7,
           7,
           4,
           4,
           4,
           4,
           4,
           4,
           4,
           4,
           4,
           4,
           4,
           0,
           7,
           6,
           4,
           4,
           6,
           1,
           1,
           1,
           5,
           3,
           3,
           6,
           5,
           1,
           1,
           5,
           5,
           1,
           1,
           1,
           5,
           5,
           5,
           5,
           2,
           2,
           2,
           2,
           3,
           1,
           7,
           0,
           0,
           1,
           5,
           7,
           7,
           7,
           6,
           0,
           0,
           2,
           2,
           0,
           0,
           0,
           1,
           1,
           5,
           5,
           1,
           1,
           1,
           5,
           7,
           7,
           6,
           6,
           0,
           0,
           1,
           0,
           7,
           7,
           7,
           1,
           1,
           2,
           2,
           3,
           1,
           1,
           3,
           5,
           1,
           5,
           4,
           0,
           0,
           1,
           1,
           1,
           5,
           7,
           3,
           3,
           3,
           3,
           6,
           0,
           7,
           3,
           3,
           2,
           3,
           3,
           3,
           3,
           2,
           2,
           1,
           7,
           7,
           0,
           0,
           0,
           0,
           6,
           6,
           6,
           0,
           1,
           1,
           1,
           1,
           1,
           5,
           5,
           6,
           6,
           1,
           1,
           5,
           5,
           1,
           1,
           7,
           7,
           3,
           4,
           6,
           6,
           6,
           6,
           6,
           1,
           1,
           5,
           4,
           2,
           2,
           2,
           2,
           2,
           2,
           2,
           2,
           2,
           2,
           6,
           2,
           2,
           6,
           6,
           2,
           2,
           2,
           3,
           1,
           1,
           5,
           1,
           1,
           1,
           1,
           1,
           1,
           1,
           1,
           5,
           5,
           5,
           7,
           7,
           0,
           6,
           0,
           3,
           6,
           7,
           7,
           7,
           7,
           3,
           3,
           3,
           3,
           3,
           3,
           3,
           3,
           3,
           3,
           3,
           3,
           7,
           7,
           4,
           4,
           3,
           1,
           1,
           5,
           5,
           6,
           1,
           1,
           5,
           1,
           7,
           7,
           4,
           4,
           1,
           1,
           1,
           3,
           3,
           6,
           6,
           3,
           4,
           4,
           5,
           5,
           5,
           5,
           1,
           1,
           2,
           2,
           2,
           2,
           7,
           7,
           4,
           4,
           4,
           4,
           4,
           5,
           5,
           2,
           2,
           2,
           3,
           1,
           1,
           1,
           1,
           1,
           5,
           5,
           0,
           0,
           0,
           6,
           7,
           5,
           3,
           7,
           5,
           5,
           3,
           3,
           3,
           6,
           4,
           2,
           2,
           2,
           6,
           6,
           6,
           0,
           0,
           0,
           0,
           0,
           0,
           0
          ]
         },
         "mode": "markers",
         "type": "scatter",
         "x": [
          -14.630622863769531,
          -5.3799285888671875,
          -5.3799285888671875,
          -3.5763614177703857,
          -10.041621208190918,
          11.698680877685547,
          15.148429870605469,
          15.676482200622559,
          15.676482200622559,
          20.767047882080078,
          -19.96217918395996,
          -19.83582305908203,
          -17.448482513427734,
          -18.112478256225586,
          16.949180603027344,
          17.875694274902344,
          1.500427484512329,
          14.051313400268555,
          -14.984188079833984,
          19.834056854248047,
          19.834056854248047,
          8.988697052001953,
          5.843879222869873,
          9.27346420288086,
          -0.8465046286582947,
          1.0658799409866333,
          1.107075572013855,
          1.3978800773620605,
          3.658597230911255,
          14.147128105163574,
          -1.3406250476837158,
          10.722722053527832,
          9.32665729522705,
          12.381470680236816,
          10.034514427185059,
          11.528818130493164,
          12.834516525268555,
          -2.786241292953491,
          -3.9947755336761475,
          -3.439462184906006,
          -11.036617279052734,
          -5.212959289550781,
          -15.202735900878906,
          -15.202735900878906,
          -27.286985397338867,
          -26.887842178344727,
          -19.79081916809082,
          -20.832746505737305,
          12.770547866821289,
          13.684798240661621,
          12.997387886047363,
          10.478489875793457,
          17.44344711303711,
          16.6967716217041,
          3.709174871444702,
          11.81377124786377,
          -28.34760093688965,
          -28.34760093688965,
          11.606637954711914,
          11.702760696411133,
          -23.608091354370117,
          -23.94687271118164,
          -21.423282623291016,
          -22.038101196289062,
          -22.197277069091797,
          -20.98541831970215,
          -25.074234008789062,
          -30.064191818237305,
          -31.393661499023438,
          -32.06312561035156,
          -29.962066650390625,
          -1.1242114305496216,
          -1.08492910861969,
          -9.262754440307617,
          -15.073867797851562,
          -15.073139190673828,
          -9.887721061706543,
          22.92337989807129,
          6.468174457550049,
          20.694862365722656,
          5.109831809997559,
          -10.902430534362793,
          -10.902430534362793,
          -10.672085762023926,
          8.757210731506348,
          12.397278785705566,
          11.325592994689941,
          -0.4090742766857147,
          -2.485053539276123,
          15.944745063781738,
          15.250158309936523,
          16.67608642578125,
          15.02397632598877,
          -0.6579331755638123,
          21.640769958496094,
          11.331521034240723,
          -19.79654884338379,
          -19.59415626525879,
          -7.891858100891113,
          -8.527112007141113,
          -6.654900550842285,
          19.19249153137207,
          4.674196243286133,
          4.358471393585205,
          3.9288387298583984,
          18.310440063476562,
          13.113255500793457,
          -6.89404821395874,
          -7.716541290283203,
          -7.663863658905029,
          -8.850192070007324,
          0.9532787203788757,
          0.43422573804855347,
          -16.986385345458984,
          -16.938472747802734,
          0.6780167818069458,
          -5.8823418617248535,
          -5.8823418617248535,
          33.559329986572266,
          34.563175201416016,
          36.361209869384766,
          36.233882904052734,
          33.15898132324219,
          34.43075942993164,
          33.657249450683594,
          35.09986877441406,
          14.955547332763672,
          14.55737018585205,
          -12.732247352600098,
          -12.121055603027344,
          -10.405096054077148,
          -10.808022499084473,
          11.491621017456055,
          -3.189812183380127,
          13.833806037902832,
          12.936341285705566,
          12.909698486328125,
          13.260309219360352,
          11.125484466552734,
          -2.0629167556762695,
          -1.213011384010315,
          -4.770086288452148,
          23.58473777770996,
          22.95853042602539,
          6.064476013183594,
          -7.080821990966797,
          19.342803955078125,
          3.484205484390259,
          -30.174341201782227,
          -1.841554880142212,
          -3.4627797603607178,
          14.114395141601562,
          14.114395141601562,
          10.465325355529785,
          -3.454343795776367,
          10.075007438659668,
          8.70076847076416,
          7.499018669128418,
          7.9187750816345215,
          7.499018669128418,
          -17.532302856445312,
          1.6839936971664429,
          0.6528676748275757,
          -6.988837718963623,
          -7.79436731338501,
          -15.840574264526367,
          -7.548378944396973,
          -3.445690631866455,
          -3.9396798610687256,
          -5.813436985015869,
          -25.80902099609375,
          -25.07056427001953,
          2.6717119216918945,
          26.717466354370117,
          26.698257446289062,
          -1.4846125841140747,
          -1.8491228818893433,
          -3.0595383644104004,
          -0.7138034105300903,
          -13.071453094482422,
          -12.531676292419434,
          -14.122989654541016,
          -12.010987281799316,
          29.802509307861328,
          28.615337371826172,
          27.918758392333984,
          27.918758392333984,
          27.4686279296875,
          29.689409255981445,
          30.329988479614258,
          -8.623711585998535,
          -8.684845924377441,
          8.843029975891113,
          17.10040283203125,
          -5.650568008422852,
          -5.650568008422852,
          10.125710487365723,
          10.557928085327148,
          11.491412162780762,
          11.491412162780762,
          5.149649143218994,
          -25.8205509185791,
          -16.290550231933594,
          -15.39890193939209,
          -16.541168212890625,
          -18.05066680908203,
          -17.478796005249023,
          21.11412811279297,
          19.71142578125,
          -0.5222218036651611,
          -21.922561645507812,
          -3.7643744945526123,
          -1.573056697845459,
          -3.7643744945526123,
          -11.747654914855957,
          -2.2670276165008545,
          -7.93021297454834,
          -7.457178115844727,
          -16.092639923095703,
          -15.237475395202637,
          -16.029544830322266,
          -15.896957397460938,
          -15.395819664001465,
          -13.910015106201172,
          -15.121816635131836,
          -13.744473457336426,
          -13.464151382446289,
          -14.085301399230957,
          -12.236034393310547,
          -10.963531494140625,
          8.412400245666504,
          21.79848289489746,
          22.59292221069336,
          20.32765007019043,
          23.0242977142334,
          20.81431770324707,
          18.43229103088379,
          22.339643478393555,
          19.655969619750977,
          19.333227157592773,
          20.798738479614258,
          15.922125816345215,
          15.917802810668945,
          19.158294677734375,
          21.980710983276367,
          22.92626953125,
          4.810464382171631,
          -8.566842079162598,
          -7.616796493530273,
          -1.664004921913147,
          -23.051523208618164,
          17.804901123046875,
          17.541250228881836,
          5.358846664428711,
          0.8720598816871643,
          -3.8461108207702637,
          -0.5918125510215759,
          0.789686381816864,
          0.5843357443809509,
          -0.44336333870887756,
          -0.6335693597793579,
          -1.881646990776062,
          -1.6398049592971802,
          -2.670092821121216,
          -1.6582304239273071,
          -0.7678191065788269,
          8.150405883789062,
          9.682717323303223,
          9.682717323303223,
          5.006672382354736,
          5.373388767242432,
          7.244459629058838,
          6.620315074920654,
          6.298453330993652,
          5.030920028686523,
          5.730116367340088,
          -17.833511352539062,
          17.38468360900879,
          16.796560287475586,
          -6.638190746307373,
          9.229955673217773,
          16.625614166259766,
          16.5533504486084,
          -26.634674072265625,
          -26.160778045654297,
          13.813591003417969,
          13.19382381439209,
          12.701556205749512,
          -9.450284004211426,
          -10.093674659729004,
          -20.21697425842285,
          -19.929235458374023,
          -9.609530448913574,
          -15.986573219299316,
          -15.637937545776367,
          -9.243634223937988,
          -8.139715194702148,
          -8.376110076904297,
          -8.139715194702148,
          15.871253967285156,
          10.306477546691895,
          -14.409916877746582,
          -15.755634307861328,
          -14.121018409729004,
          -16.155780792236328,
          12.990015029907227,
          12.74617862701416,
          -20.145904541015625,
          -20.959064483642578,
          -21.015836715698242,
          -19.25252914428711,
          -22.79476547241211,
          8.077190399169922,
          10.605710983276367,
          -20.971433639526367,
          -20.571598052978516,
          -21.74764633178711,
          -20.83751106262207,
          25.32950782775879,
          25.270509719848633,
          24.81393051147461,
          24.81786346435547,
          23.846445083618164,
          24.49419403076172,
          23.21224594116211,
          6.667603015899658,
          6.606058120727539,
          7.530054569244385,
          -11.245590209960938,
          21.958255767822266,
          9.532624244689941,
          -2.286705255508423,
          3.873023509979248,
          -2.563373565673828,
          -1.4361052513122559,
          -7.493393421173096,
          -8.425734519958496,
          -7.357245445251465,
          -12.871807098388672,
          -29.10097312927246,
          -2.4050533771514893,
          -4.10596227645874,
          -2.4050533771514893,
          -23.140365600585938,
          -24.093547821044922,
          -22.787813186645508,
          6.4254961013793945,
          7.2448272705078125,
          6.287068843841553,
          7.3456597328186035,
          3.656801700592041,
          3.860948085784912,
          5.912641525268555
         ],
         "y": [
          -5.29574728012085,
          -20.179092407226562,
          -20.179092407226562,
          -21.37034797668457,
          -18.643321990966797,
          16.52638816833496,
          12.74771499633789,
          14.60705852508545,
          14.60705852508545,
          25.51806640625,
          -16.01327133178711,
          -16.761213302612305,
          -2.6309404373168945,
          -2.5425519943237305,
          6.945934295654297,
          6.632779598236084,
          15.858128547668457,
          -22.30162239074707,
          1.499289631843567,
          -5.104860782623291,
          -5.104860782623291,
          7.7964887619018555,
          18.04078483581543,
          7.150116920471191,
          19.872676849365234,
          18.935388565063477,
          20.93855094909668,
          18.312877655029297,
          20.893234252929688,
          14.639639854431152,
          23.68193817138672,
          27.095996856689453,
          25.626535415649414,
          2.901615619659424,
          4.660793304443359,
          5.410815238952637,
          3.900761365890503,
          19.35271453857422,
          21.867948532104492,
          21.643598556518555,
          -16.194355010986328,
          18.778499603271484,
          -31.3393497467041,
          -31.3393497467041,
          -10.743088722229004,
          -11.429930686950684,
          -2.579252004623413,
          -2.2885327339172363,
          -19.47449493408203,
          -19.72212791442871,
          -20.885459899902344,
          8.709461212158203,
          8.782633781433105,
          8.741966247558594,
          -22.808780670166016,
          -11.918903350830078,
          7.568641185760498,
          7.568641185760498,
          -9.147307395935059,
          -9.996844291687012,
          10.010741233825684,
          8.922597885131836,
          9.8450927734375,
          9.090463638305664,
          7.769237041473389,
          8.803682327270508,
          10.970529556274414,
          2.8242156505584717,
          4.164808750152588,
          3.6132214069366455,
          1.7603697776794434,
          -4.770909786224365,
          -6.1874003410339355,
          5.2505574226379395,
          16.21025848388672,
          16.770343780517578,
          4.471140384674072,
          6.8646111488342285,
          16.185821533203125,
          12.156906127929688,
          15.862781524658203,
          -24.009906768798828,
          -24.009906768798828,
          -20.327285766601562,
          24.3389835357666,
          6.0550031661987305,
          6.311191558837891,
          17.682960510253906,
          18.617462158203125,
          16.805431365966797,
          18.886999130249023,
          15.658157348632812,
          20.400720596313477,
          24.13286781311035,
          25.154264450073242,
          26.47963523864746,
          -10.601603507995605,
          -10.091038703918457,
          -15.690340995788574,
          -15.870476722717285,
          -16.597684860229492,
          11.286459922790527,
          2.067535877227783,
          3.5201938152313232,
          3.2415096759796143,
          14.170892715454102,
          27.38401222229004,
          -7.124327182769775,
          -7.189836025238037,
          -5.873523235321045,
          -6.310646057128906,
          3.9027910232543945,
          4.511999607086182,
          -24.70726203918457,
          -24.19692039489746,
          -0.22169214487075806,
          5.051603317260742,
          5.051603317260742,
          -4.2910075187683105,
          -3.56856369972229,
          -3.566084384918213,
          -4.383554458618164,
          -5.537919521331787,
          -5.488943576812744,
          -6.555441379547119,
          -7.006832122802734,
          -3.6753292083740234,
          -3.3362643718719482,
          7.904484748840332,
          8.269104957580566,
          9.579750061035156,
          10.067536354064941,
          7.978943824768066,
          -4.327178955078125,
          -14.087851524353027,
          -14.92408275604248,
          -13.475849151611328,
          13.256186485290527,
          13.059309959411621,
          -8.153940200805664,
          -8.287064552307129,
          -25.1113338470459,
          5.375621318817139,
          5.234661102294922,
          -24.20942497253418,
          21.97251319885254,
          3.48443341255188,
          14.311982154846191,
          9.00751781463623,
          2.447709083557129,
          3.3527989387512207,
          8.13344669342041,
          8.13344669342041,
          17.721906661987305,
          17.18396759033203,
          -26.227079391479492,
          -27.834001541137695,
          -28.34748649597168,
          -27.08904266357422,
          -28.34748649597168,
          -0.743955135345459,
          -9.988319396972656,
          -10.908097267150879,
          -22.40194320678711,
          -22.014244079589844,
          -15.688643455505371,
          -19.722944259643555,
          -22.254165649414062,
          -24.00008201599121,
          -22.527019500732422,
          -12.95318603515625,
          -13.23410701751709,
          8.773316383361816,
          1.3151130676269531,
          0.8663222193717957,
          -0.9779168963432312,
          -1.8246639966964722,
          -0.42871737480163574,
          -1.7918672561645508,
          -1.4741694927215576,
          -2.752392530441284,
          -1.693246603012085,
          -0.7093126177787781,
          8.921334266662598,
          7.84851598739624,
          9.061142921447754,
          9.061142921447754,
          7.862473011016846,
          11.799406051635742,
          11.528083801269531,
          -1.7185858488082886,
          -2.228954792022705,
          13.542625427246094,
          10.585004806518555,
          17.283843994140625,
          17.283843994140625,
          20.17024803161621,
          20.324304580688477,
          -21.31083106994629,
          -21.31083106994629,
          -23.52210235595703,
          5.112595558166504,
          2.8450019359588623,
          3.9599568843841553,
          3.4600605964660645,
          2.8399574756622314,
          4.657776832580566,
          7.751620292663574,
          8.844334602355957,
          13.382861137390137,
          6.1881585121154785,
          -12.001448631286621,
          -12.203804969787598,
          -12.001448631286621,
          -13.685564041137695,
          -13.572646141052246,
          -11.202157974243164,
          -11.539156913757324,
          -10.233907699584961,
          -9.63497543334961,
          -8.95919418334961,
          -6.293422698974609,
          -12.609491348266602,
          -10.98646354675293,
          -6.693135738372803,
          -8.685934066772461,
          -14.061506271362305,
          -13.589941024780273,
          -10.31335735321045,
          -10.975642204284668,
          16.262601852416992,
          1.0465576648712158,
          1.5449626445770264,
          17.70113182067871,
          15.88823413848877,
          15.430074691772461,
          18.79391098022461,
          17.562971115112305,
          15.918476104736328,
          17.007253646850586,
          16.640859603881836,
          23.53425407409668,
          21.373435974121094,
          20.867450714111328,
          -1.0488555431365967,
          -6.932460308074951,
          -1.1011083126068115,
          0.9272164702415466,
          1.4040451049804688,
          -21.66398811340332,
          -7.202609062194824,
          -7.8479204177856445,
          -7.457030296325684,
          -11.39987850189209,
          -13.151324272155762,
          -31.623754501342773,
          -31.561433792114258,
          -27.542146682739258,
          -26.709556579589844,
          -28.062585830688477,
          -26.068220138549805,
          -27.816965103149414,
          -26.96246337890625,
          -31.69708251953125,
          -32.29111099243164,
          -30.453893661499023,
          -18.231870651245117,
          -17.072425842285156,
          -17.072425842285156,
          -18.041034698486328,
          -17.520008087158203,
          -19.148759841918945,
          11.033098220825195,
          10.243000030517578,
          25.282224655151367,
          25.637786865234375,
          -4.484208106994629,
          4.265876770019531,
          4.246992111206055,
          15.579931259155273,
          11.693218231201172,
          0.24314752221107483,
          0.9876629710197449,
          2.221677303314209,
          2.2590651512145996,
          10.817854881286621,
          11.63372802734375,
          10.793543815612793,
          -28.392961502075195,
          -28.037857055664062,
          -5.239255428314209,
          -6.310372352600098,
          -29.812721252441406,
          19.713268280029297,
          20.01951789855957,
          18.756189346313477,
          18.66180992126465,
          20.443952560424805,
          18.66180992126465,
          12.037810325622559,
          14.235346794128418,
          -17.016305923461914,
          -17.1422176361084,
          -18.272432327270508,
          -17.73719024658203,
          -5.667964458465576,
          -6.495689392089844,
          13.312299728393555,
          12.866541862487793,
          14.359258651733398,
          12.335745811462402,
          15.125447273254395,
          26.395919799804688,
          28.900270462036133,
          -20.7867488861084,
          -18.688854217529297,
          -20.19890022277832,
          -21.75501251220703,
          -6.024010181427002,
          -5.651738166809082,
          22.36081314086914,
          21.351428985595703,
          21.896682739257812,
          24.575620651245117,
          23.747920989990234,
          -1.125862956047058,
          -2.0522232055664062,
          -1.603655457496643,
          1.9816185235977173,
          -2.3492140769958496,
          28.152742385864258,
          -19.06354522705078,
          -13.450915336608887,
          14.599542617797852,
          14.051858901977539,
          -25.735525131225586,
          -26.22086524963379,
          -26.59624671936035,
          -5.871782302856445,
          5.62539005279541,
          -10.698043823242188,
          -10.756257057189941,
          -10.698043823242188,
          -4.659129619598389,
          -5.587651252746582,
          -5.253715991973877,
          -6.390966892242432,
          -7.449751853942871,
          -5.18705415725708,
          -6.144496917724609,
          -5.837691307067871,
          -5.235002040863037,
          -7.860327243804932
         ]
        }
       ],
       "layout": {
        "height": 600,
        "template": {
         "data": {
          "bar": [
           {
            "error_x": {
             "color": "#2a3f5f"
            },
            "error_y": {
             "color": "#2a3f5f"
            },
            "marker": {
             "line": {
              "color": "#E5ECF6",
              "width": 0.5
             },
             "pattern": {
              "fillmode": "overlay",
              "size": 10,
              "solidity": 0.2
             }
            },
            "type": "bar"
           }
          ],
          "barpolar": [
           {
            "marker": {
             "line": {
              "color": "#E5ECF6",
              "width": 0.5
             },
             "pattern": {
              "fillmode": "overlay",
              "size": 10,
              "solidity": 0.2
             }
            },
            "type": "barpolar"
           }
          ],
          "carpet": [
           {
            "aaxis": {
             "endlinecolor": "#2a3f5f",
             "gridcolor": "white",
             "linecolor": "white",
             "minorgridcolor": "white",
             "startlinecolor": "#2a3f5f"
            },
            "baxis": {
             "endlinecolor": "#2a3f5f",
             "gridcolor": "white",
             "linecolor": "white",
             "minorgridcolor": "white",
             "startlinecolor": "#2a3f5f"
            },
            "type": "carpet"
           }
          ],
          "choropleth": [
           {
            "colorbar": {
             "outlinewidth": 0,
             "ticks": ""
            },
            "type": "choropleth"
           }
          ],
          "contour": [
           {
            "colorbar": {
             "outlinewidth": 0,
             "ticks": ""
            },
            "colorscale": [
             [
              0,
              "#0d0887"
             ],
             [
              0.1111111111111111,
              "#46039f"
             ],
             [
              0.2222222222222222,
              "#7201a8"
             ],
             [
              0.3333333333333333,
              "#9c179e"
             ],
             [
              0.4444444444444444,
              "#bd3786"
             ],
             [
              0.5555555555555556,
              "#d8576b"
             ],
             [
              0.6666666666666666,
              "#ed7953"
             ],
             [
              0.7777777777777778,
              "#fb9f3a"
             ],
             [
              0.8888888888888888,
              "#fdca26"
             ],
             [
              1,
              "#f0f921"
             ]
            ],
            "type": "contour"
           }
          ],
          "contourcarpet": [
           {
            "colorbar": {
             "outlinewidth": 0,
             "ticks": ""
            },
            "type": "contourcarpet"
           }
          ],
          "heatmap": [
           {
            "colorbar": {
             "outlinewidth": 0,
             "ticks": ""
            },
            "colorscale": [
             [
              0,
              "#0d0887"
             ],
             [
              0.1111111111111111,
              "#46039f"
             ],
             [
              0.2222222222222222,
              "#7201a8"
             ],
             [
              0.3333333333333333,
              "#9c179e"
             ],
             [
              0.4444444444444444,
              "#bd3786"
             ],
             [
              0.5555555555555556,
              "#d8576b"
             ],
             [
              0.6666666666666666,
              "#ed7953"
             ],
             [
              0.7777777777777778,
              "#fb9f3a"
             ],
             [
              0.8888888888888888,
              "#fdca26"
             ],
             [
              1,
              "#f0f921"
             ]
            ],
            "type": "heatmap"
           }
          ],
          "heatmapgl": [
           {
            "colorbar": {
             "outlinewidth": 0,
             "ticks": ""
            },
            "colorscale": [
             [
              0,
              "#0d0887"
             ],
             [
              0.1111111111111111,
              "#46039f"
             ],
             [
              0.2222222222222222,
              "#7201a8"
             ],
             [
              0.3333333333333333,
              "#9c179e"
             ],
             [
              0.4444444444444444,
              "#bd3786"
             ],
             [
              0.5555555555555556,
              "#d8576b"
             ],
             [
              0.6666666666666666,
              "#ed7953"
             ],
             [
              0.7777777777777778,
              "#fb9f3a"
             ],
             [
              0.8888888888888888,
              "#fdca26"
             ],
             [
              1,
              "#f0f921"
             ]
            ],
            "type": "heatmapgl"
           }
          ],
          "histogram": [
           {
            "marker": {
             "pattern": {
              "fillmode": "overlay",
              "size": 10,
              "solidity": 0.2
             }
            },
            "type": "histogram"
           }
          ],
          "histogram2d": [
           {
            "colorbar": {
             "outlinewidth": 0,
             "ticks": ""
            },
            "colorscale": [
             [
              0,
              "#0d0887"
             ],
             [
              0.1111111111111111,
              "#46039f"
             ],
             [
              0.2222222222222222,
              "#7201a8"
             ],
             [
              0.3333333333333333,
              "#9c179e"
             ],
             [
              0.4444444444444444,
              "#bd3786"
             ],
             [
              0.5555555555555556,
              "#d8576b"
             ],
             [
              0.6666666666666666,
              "#ed7953"
             ],
             [
              0.7777777777777778,
              "#fb9f3a"
             ],
             [
              0.8888888888888888,
              "#fdca26"
             ],
             [
              1,
              "#f0f921"
             ]
            ],
            "type": "histogram2d"
           }
          ],
          "histogram2dcontour": [
           {
            "colorbar": {
             "outlinewidth": 0,
             "ticks": ""
            },
            "colorscale": [
             [
              0,
              "#0d0887"
             ],
             [
              0.1111111111111111,
              "#46039f"
             ],
             [
              0.2222222222222222,
              "#7201a8"
             ],
             [
              0.3333333333333333,
              "#9c179e"
             ],
             [
              0.4444444444444444,
              "#bd3786"
             ],
             [
              0.5555555555555556,
              "#d8576b"
             ],
             [
              0.6666666666666666,
              "#ed7953"
             ],
             [
              0.7777777777777778,
              "#fb9f3a"
             ],
             [
              0.8888888888888888,
              "#fdca26"
             ],
             [
              1,
              "#f0f921"
             ]
            ],
            "type": "histogram2dcontour"
           }
          ],
          "mesh3d": [
           {
            "colorbar": {
             "outlinewidth": 0,
             "ticks": ""
            },
            "type": "mesh3d"
           }
          ],
          "parcoords": [
           {
            "line": {
             "colorbar": {
              "outlinewidth": 0,
              "ticks": ""
             }
            },
            "type": "parcoords"
           }
          ],
          "pie": [
           {
            "automargin": true,
            "type": "pie"
           }
          ],
          "scatter": [
           {
            "fillpattern": {
             "fillmode": "overlay",
             "size": 10,
             "solidity": 0.2
            },
            "type": "scatter"
           }
          ],
          "scatter3d": [
           {
            "line": {
             "colorbar": {
              "outlinewidth": 0,
              "ticks": ""
             }
            },
            "marker": {
             "colorbar": {
              "outlinewidth": 0,
              "ticks": ""
             }
            },
            "type": "scatter3d"
           }
          ],
          "scattercarpet": [
           {
            "marker": {
             "colorbar": {
              "outlinewidth": 0,
              "ticks": ""
             }
            },
            "type": "scattercarpet"
           }
          ],
          "scattergeo": [
           {
            "marker": {
             "colorbar": {
              "outlinewidth": 0,
              "ticks": ""
             }
            },
            "type": "scattergeo"
           }
          ],
          "scattergl": [
           {
            "marker": {
             "colorbar": {
              "outlinewidth": 0,
              "ticks": ""
             }
            },
            "type": "scattergl"
           }
          ],
          "scattermapbox": [
           {
            "marker": {
             "colorbar": {
              "outlinewidth": 0,
              "ticks": ""
             }
            },
            "type": "scattermapbox"
           }
          ],
          "scatterpolar": [
           {
            "marker": {
             "colorbar": {
              "outlinewidth": 0,
              "ticks": ""
             }
            },
            "type": "scatterpolar"
           }
          ],
          "scatterpolargl": [
           {
            "marker": {
             "colorbar": {
              "outlinewidth": 0,
              "ticks": ""
             }
            },
            "type": "scatterpolargl"
           }
          ],
          "scatterternary": [
           {
            "marker": {
             "colorbar": {
              "outlinewidth": 0,
              "ticks": ""
             }
            },
            "type": "scatterternary"
           }
          ],
          "surface": [
           {
            "colorbar": {
             "outlinewidth": 0,
             "ticks": ""
            },
            "colorscale": [
             [
              0,
              "#0d0887"
             ],
             [
              0.1111111111111111,
              "#46039f"
             ],
             [
              0.2222222222222222,
              "#7201a8"
             ],
             [
              0.3333333333333333,
              "#9c179e"
             ],
             [
              0.4444444444444444,
              "#bd3786"
             ],
             [
              0.5555555555555556,
              "#d8576b"
             ],
             [
              0.6666666666666666,
              "#ed7953"
             ],
             [
              0.7777777777777778,
              "#fb9f3a"
             ],
             [
              0.8888888888888888,
              "#fdca26"
             ],
             [
              1,
              "#f0f921"
             ]
            ],
            "type": "surface"
           }
          ],
          "table": [
           {
            "cells": {
             "fill": {
              "color": "#EBF0F8"
             },
             "line": {
              "color": "white"
             }
            },
            "header": {
             "fill": {
              "color": "#C8D4E3"
             },
             "line": {
              "color": "white"
             }
            },
            "type": "table"
           }
          ]
         },
         "layout": {
          "annotationdefaults": {
           "arrowcolor": "#2a3f5f",
           "arrowhead": 0,
           "arrowwidth": 1
          },
          "autotypenumbers": "strict",
          "coloraxis": {
           "colorbar": {
            "outlinewidth": 0,
            "ticks": ""
           }
          },
          "colorscale": {
           "diverging": [
            [
             0,
             "#8e0152"
            ],
            [
             0.1,
             "#c51b7d"
            ],
            [
             0.2,
             "#de77ae"
            ],
            [
             0.3,
             "#f1b6da"
            ],
            [
             0.4,
             "#fde0ef"
            ],
            [
             0.5,
             "#f7f7f7"
            ],
            [
             0.6,
             "#e6f5d0"
            ],
            [
             0.7,
             "#b8e186"
            ],
            [
             0.8,
             "#7fbc41"
            ],
            [
             0.9,
             "#4d9221"
            ],
            [
             1,
             "#276419"
            ]
           ],
           "sequential": [
            [
             0,
             "#0d0887"
            ],
            [
             0.1111111111111111,
             "#46039f"
            ],
            [
             0.2222222222222222,
             "#7201a8"
            ],
            [
             0.3333333333333333,
             "#9c179e"
            ],
            [
             0.4444444444444444,
             "#bd3786"
            ],
            [
             0.5555555555555556,
             "#d8576b"
            ],
            [
             0.6666666666666666,
             "#ed7953"
            ],
            [
             0.7777777777777778,
             "#fb9f3a"
            ],
            [
             0.8888888888888888,
             "#fdca26"
            ],
            [
             1,
             "#f0f921"
            ]
           ],
           "sequentialminus": [
            [
             0,
             "#0d0887"
            ],
            [
             0.1111111111111111,
             "#46039f"
            ],
            [
             0.2222222222222222,
             "#7201a8"
            ],
            [
             0.3333333333333333,
             "#9c179e"
            ],
            [
             0.4444444444444444,
             "#bd3786"
            ],
            [
             0.5555555555555556,
             "#d8576b"
            ],
            [
             0.6666666666666666,
             "#ed7953"
            ],
            [
             0.7777777777777778,
             "#fb9f3a"
            ],
            [
             0.8888888888888888,
             "#fdca26"
            ],
            [
             1,
             "#f0f921"
            ]
           ]
          },
          "colorway": [
           "#636efa",
           "#EF553B",
           "#00cc96",
           "#ab63fa",
           "#FFA15A",
           "#19d3f3",
           "#FF6692",
           "#B6E880",
           "#FF97FF",
           "#FECB52"
          ],
          "font": {
           "color": "#2a3f5f"
          },
          "geo": {
           "bgcolor": "white",
           "lakecolor": "white",
           "landcolor": "#E5ECF6",
           "showlakes": true,
           "showland": true,
           "subunitcolor": "white"
          },
          "hoverlabel": {
           "align": "left"
          },
          "hovermode": "closest",
          "mapbox": {
           "style": "light"
          },
          "paper_bgcolor": "white",
          "plot_bgcolor": "#E5ECF6",
          "polar": {
           "angularaxis": {
            "gridcolor": "white",
            "linecolor": "white",
            "ticks": ""
           },
           "bgcolor": "#E5ECF6",
           "radialaxis": {
            "gridcolor": "white",
            "linecolor": "white",
            "ticks": ""
           }
          },
          "scene": {
           "xaxis": {
            "backgroundcolor": "#E5ECF6",
            "gridcolor": "white",
            "gridwidth": 2,
            "linecolor": "white",
            "showbackground": true,
            "ticks": "",
            "zerolinecolor": "white"
           },
           "yaxis": {
            "backgroundcolor": "#E5ECF6",
            "gridcolor": "white",
            "gridwidth": 2,
            "linecolor": "white",
            "showbackground": true,
            "ticks": "",
            "zerolinecolor": "white"
           },
           "zaxis": {
            "backgroundcolor": "#E5ECF6",
            "gridcolor": "white",
            "gridwidth": 2,
            "linecolor": "white",
            "showbackground": true,
            "ticks": "",
            "zerolinecolor": "white"
           }
          },
          "shapedefaults": {
           "line": {
            "color": "#2a3f5f"
           }
          },
          "ternary": {
           "aaxis": {
            "gridcolor": "white",
            "linecolor": "white",
            "ticks": ""
           },
           "baxis": {
            "gridcolor": "white",
            "linecolor": "white",
            "ticks": ""
           },
           "bgcolor": "#E5ECF6",
           "caxis": {
            "gridcolor": "white",
            "linecolor": "white",
            "ticks": ""
           }
          },
          "title": {
           "x": 0.05
          },
          "xaxis": {
           "automargin": true,
           "gridcolor": "white",
           "linecolor": "white",
           "ticks": "",
           "title": {
            "standoff": 15
           },
           "zerolinecolor": "white",
           "zerolinewidth": 2
          },
          "yaxis": {
           "automargin": true,
           "gridcolor": "white",
           "linecolor": "white",
           "ticks": "",
           "title": {
            "standoff": 15
           },
           "zerolinecolor": "white",
           "zerolinewidth": 2
          }
         }
        },
        "width": 600
       }
      }
     },
     "metadata": {},
     "output_type": "display_data"
    }
   ],
   "source": [
    "import plotly.graph_objects as go\n",
    "\n",
    "# Define hover template\n",
    "hover_template = '<b>Feature:</b> %{customdata}'\n",
    "\n",
    "# Plot t-SNE visualization with hover labels\n",
    "fig = go.Figure()\n",
    "\n",
    "fig.add_trace(go.Scatter(\n",
    "    x=x_embedded_2d[:, 0], \n",
    "    y=x_embedded_2d[:, 1], \n",
    "    mode='markers',\n",
    "    marker=dict(color=clusters),\n",
    "    customdata=df_scaled.columns,\n",
    "    hovertemplate=hover_template,\n",
    "))\n",
    "\n",
    "fig.update_layout(width=600, height=600)\n",
    "\n",
    "fig.show()"
   ]
  },
  {
   "cell_type": "code",
   "execution_count": 60,
   "metadata": {},
   "outputs": [],
   "source": [
    "# Feature importance ranking\n",
    "cluster_means = []\n",
    "for i in range(kmeans.n_clusters):\n",
    "    cluster_data = df_scaled[cluster_labels == i]\n",
    "    cluster_mean = np.mean(cluster_data, axis=0)\n",
    "    cluster_means.append(cluster_mean)\n",
    "\n",
    "# Calculate importance as variance within each cluster\n",
    "importances = np.var(cluster_means, axis=0)\n",
    "\n",
    "# Feature names\n",
    "feature_names = df_scaled.columns\n",
    "\n",
    "# Sort features by importance\n",
    "sorted_indices = np.argsort(importances)[::-1]\n",
    "sorted_importances = importances[sorted_indices]\n",
    "sorted_feature_names = [feature_names[i] for i in sorted_indices]"
   ]
  },
  {
   "cell_type": "code",
   "execution_count": 58,
   "metadata": {},
   "outputs": [
    {
     "data": {
      "image/png": "[encoded data removed]",
      "text/plain": [
       "<Figure size 1200x800 with 2 Axes>"
      ]
     },
     "metadata": {},
     "output_type": "display_data"
    }
   ],
   "source": [
    "# Heatmap visualization\n",
    "plt.figure(figsize=(12, 8))\n",
    "sns.heatmap(np.array(cluster_means)[:, sorted_indices], cmap='viridis', linewidths=0.5)\n",
    "plt.title('Feature Distribution within Clusters')\n",
    "plt.xlabel('Feature')\n",
    "plt.ylabel('Cluster')\n",
    "plt.xticks(ticks=np.arange(len(sorted_feature_names)) + 0.5, labels=sorted_feature_names, rotation=90)\n",
    "plt.show()"
   ]
  },
  {
   "cell_type": "code",
   "execution_count": null,
   "metadata": {},
   "outputs": [
    {
     "data": {
      "text/plain": [
       "(0.36022827, 1.2897042257077242)"
      ]
     },
     "execution_count": 18,
     "metadata": {},
     "output_type": "execute_result"
    }
   ],
   "source": [
    "silhouette_score(x_embedded_2d, kmeans.fit_predict(x_embedded_2d)),  davies_bouldin_score(x_embedded_2d, clusters)"
   ]
  },
  {
   "cell_type": "markdown",
   "metadata": {},
   "source": [
    "The silhouette score for the clustering model is 0.3602, values closest to 1 are preferrable. This is not a bad score.\n",
    "\n",
    "While in the davies boulding score, values closest to 0 are preferrable. A 1.28 is an acceptable score."
   ]
  },
  {
   "cell_type": "code",
   "execution_count": null,
   "metadata": {},
   "outputs": [
    {
     "data": {
      "image/png": "[encoded data removed]",
      "text/plain": [
       "<Figure size 600x600 with 1 Axes>"
      ]
     },
     "metadata": {},
     "output_type": "display_data"
    }
   ],
   "source": [
    "plt.figure(figsize=(6,6))\n",
    "sns.scatterplot(\n",
    "    x= x_embedded_2d[:, 0], y=x_embedded_2d[:, 1],\n",
    "    hue=clusters,\n",
    "    palette=sns.color_palette(\"twilight\",8),\n",
    "    data=df_scaled,\n",
    "    alpha=0.7\n",
    "    )\n",
    "plt.title('TSNE of KMeans++ Clustering 2D')\n",
    "plt.legend(title='Clusters') \n",
    "plt.show()"
   ]
  },
  {
   "cell_type": "code",
   "execution_count": null,
   "metadata": {},
   "outputs": [
    {
     "data": {
      "image/png": "[encoded data removed]",
      "text/plain": [
       "<Figure size 600x600 with 1 Axes>"
      ]
     },
     "metadata": {},
     "output_type": "display_data"
    }
   ],
   "source": [
    "ax = plt.figure(figsize=(6,6)).add_subplot(projection = '3d')\n",
    "ax.scatter(\n",
    "    xs= x_embedded_3d[:, 0], \n",
    "    ys= x_embedded_3d[:, 1],\n",
    "    zs= x_embedded_3d[:, 2],\n",
    "    c=clusters,\n",
    "    cmap='twilight',\n",
    "    alpha=0.8,\n",
    ")\n",
    "plt.title('TSNE of KMeans++ Clustering 3D')\n",
    "plt.show()"
   ]
  }
 ],
 "metadata": {
  "kernelspec": {
   "display_name": "iteso",
   "language": "python",
   "name": "python3"
  },
  "language_info": {
   "codemirror_mode": {
    "name": "ipython",
    "version": 3
   },
   "file_extension": ".py",
   "mimetype": "text/x-python",
   "name": "python",
   "nbconvert_exporter": "python",
   "pygments_lexer": "ipython3",
   "version": "3.10.13"
  }
 },
 "nbformat": 4,
 "nbformat_minor": 2
}
